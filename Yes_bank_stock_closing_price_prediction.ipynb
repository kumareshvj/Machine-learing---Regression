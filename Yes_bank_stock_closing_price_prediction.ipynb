{
  "nbformat": 4,
  "nbformat_minor": 0,
  "metadata": {
    "colab": {
      "provenance": [],
      "collapsed_sections": [
        "K5QZ13OEpz2H",
        "lQ7QKXXCp7Bj",
        "448CDAPjqfQr",
        "t6dVpIINYklI",
        "ijmpgYnKYklI",
        "85gYPyotYoAp",
        "RoGjAbkUYoAp",
        "iky9q4vBYrdO",
        "F6T5p64dYrdO",
        "y-Ehk30pYrdP",
        "QHF8YVU7Yuh3",
        "GwzvFGzlYuh3",
        "qYpmQ266Yuh3",
        "OH-pJp9IphqM",
        "bbFf2-_FphqN",
        "_ouA3fa0phqN",
        "Seke61FWphqN",
        "t27r6nlMphqO",
        "r2jJGEOYphqO",
        "b0JNsNcRphqO",
        "BZR9WyysphqO",
        "jj7wYXLtphqO",
        "eZrbJ2SmphqO",
        "rFu4xreNphqO",
        "YJ55k-q6phqO",
        "gCFgpxoyphqP",
        "OVtJsKN_phqQ",
        "lssrdh5qphqQ",
        "U2RJ9gkRphqQ",
        "1M8mcRywphqQ",
        "tgIPom80phqQ",
        "JMzcOPDDphqR",
        "x-EpHcCOp1ci",
        "X_VqEhTip1ck",
        "8zGJKyg5p1ck",
        "PVzmfK_Ep1ck",
        "n3dbpmDWp1ck",
        "ylSl6qgtp1ck",
        "ZWILFDl5p1ck",
        "M7G43BXep1ck",
        "Ag9LCva-p1cl",
        "E6MkPsBcp1cl",
        "2cELzS2fp1cl",
        "3MPXvC8up1cl",
        "UV0SzAkaZNRQ",
        "YPEH6qLeZNRQ",
        "22aHeOlLveiV",
        "Ou-I18pAyIpj",
        "fF3858GYyt-u",
        "dEUvejAfpUZe",
        "Fd15vwWVpUZf",
        "bn_IUdTipZyH",
        "49K5P_iCpZyH",
        "Nff-vKELpZyI",
        "kLW572S8pZyI",
        "dWbDXHzopZyI",
        "xiyOF9F70UgQ",
        "7wuGOrhz0itI",
        "id1riN9m0vUs",
        "578E2V7j08f6",
        "89xtkJwZ18nB",
        "67NQN5KX2AMe",
        "Iwf50b-R2tYG",
        "GMQiZwjn3iu7",
        "WVIkgGqN3qsr",
        "XkPnILGE3zoT",
        "Hlsf0x5436Go",
        "mT9DMSJo4nBL",
        "c49ITxTc407N",
        "OeJFEK0N496M",
        "9ExmJH0g5HBk",
        "cJNqERVU536h",
        "k5UmGsbsOxih",
        "T0VqWOYE6DLQ",
        "qBMux9mC6MCf",
        "-oLEiFgy-5Pf",
        "C74aWNz2AliB",
        "2DejudWSA-a0",
        "pEMng2IbBLp7",
        "rAdphbQ9Bhjc",
        "TNVZ9zx19K6k",
        "nqoHp30x9hH9",
        "rMDnDkt2B6du",
        "yiiVWRdJDDil",
        "1UUpS68QDMuG",
        "kexQrXU-DjzY",
        "T5CmagL3EC8N",
        "BhH2vgX9EjGr",
        "qjKvONjwE8ra",
        "P1XJ9OREExlT",
        "VFOzZv6IFROw",
        "TIqpNgepFxVj",
        "VfCC591jGiD4",
        "OB4l2ZhMeS1U",
        "ArJBuiUVfxKd",
        "4qY1EAkEfxKe",
        "PiV4Ypx8fxKe",
        "TfvqoZmBfxKf",
        "dJ2tPlVmpsJ0",
        "JWYfwnehpsJ1",
        "-jK_YjpMpsJ2",
        "HAih1iBOpsJ2",
        "zVGeBEFhpsJ2",
        "bmKjuQ-FpsJ3",
        "Fze-IPXLpx6K",
        "7AN1z2sKpx6M",
        "9PIHJqyupx6M",
        "_-qAgymDpx6N",
        "Z-hykwinpx6N",
        "h_CCil-SKHpo",
        "cBFFvTBNJzUa",
        "HvGl1hHyA_VK",
        "EyNgTHvd2WFk",
        "KH5McJBi2d8v",
        "iW_Lq9qf2h6X",
        "-Kee-DAl2viO",
        "gCX9965dhzqZ",
        "gIfDvo9L0UH2"
      ],
      "include_colab_link": true
    },
    "kernelspec": {
      "name": "python3",
      "display_name": "Python 3"
    },
    "language_info": {
      "name": "python"
    },
    "gpuClass": "standard"
  },
  "cells": [
    {
      "cell_type": "markdown",
      "metadata": {
        "id": "view-in-github",
        "colab_type": "text"
      },
      "source": [
        "<a href=\"https://colab.research.google.com/github/kumareshvj/Machine-learing---Regression/blob/main/Yes_bank_stock_closing_price_prediction.ipynb\" target=\"_parent\"><img src=\"https://colab.research.google.com/assets/colab-badge.svg\" alt=\"Open In Colab\"/></a>"
      ]
    },
    {
      "cell_type": "markdown",
      "source": [
        "# **Project Name**    - \n",
        "\n"
      ],
      "metadata": {
        "id": "vncDsAP0Gaoa"
      }
    },
    {
      "cell_type": "markdown",
      "source": [
        "##### **Project Type**    - Regression\n",
        "##### **Contribution**    - Individual\n"
      ],
      "metadata": {
        "id": "beRrZCGUAJYm"
      }
    },
    {
      "cell_type": "markdown",
      "source": [
        "# **Project Summary -**"
      ],
      "metadata": {
        "id": "FJNUwmbgGyua"
      }
    },
    {
      "cell_type": "markdown",
      "source": [
        "**Data Preprocessing** : \n",
        "\n",
        "1. Getting the dataset\n",
        "2. Importing libraries\n",
        "3. Importing datasets\n",
        "4. Finding Missing Data\n",
        "5. Data Cleaning and Feature Engineering\n",
        "\n",
        "**Exploratory data analysis(EDA) :** \n",
        "\n",
        "1.\n",
        "\n",
        "2.\n",
        "\n",
        "3.\n",
        "\n",
        "4.\n",
        "\n",
        "5.\n",
        "\n",
        "6.\n",
        "\n",
        "**Supervised Machine learning algorithms and implementation :**\n",
        "\n",
        "1. Lasso regression\n",
        "\n",
        "2. Ridge regression\n",
        "\n",
        "3. Elastic net regression\n"
      ],
      "metadata": {
        "id": "F6v_1wHtG2nS"
      }
    },
    {
      "cell_type": "markdown",
      "source": [
        "# **GitHub Link -**"
      ],
      "metadata": {
        "id": "w6K7xa23Elo4"
      }
    },
    {
      "cell_type": "markdown",
      "source": [
        "https://github.com/kumareshvj/Machine-learing---Regression"
      ],
      "metadata": {
        "id": "h1o69JH3Eqqn"
      }
    },
    {
      "cell_type": "markdown",
      "source": [
        "# **Problem Statement**\n"
      ],
      "metadata": {
        "id": "yQaldy8SH6Dl"
      }
    },
    {
      "cell_type": "markdown",
      "source": [
        "**Write Problem Statement Here.**"
      ],
      "metadata": {
        "id": "DpeJGUA3kjGy"
      }
    },
    {
      "cell_type": "markdown",
      "source": [
        "# ***Let's Begin !***"
      ],
      "metadata": {
        "id": "O_i_v8NEhb9l"
      }
    },
    {
      "cell_type": "markdown",
      "source": [
        "## ***1. Know Your Data***"
      ],
      "metadata": {
        "id": "HhfV-JJviCcP"
      }
    },
    {
      "cell_type": "markdown",
      "source": [
        "### Import Libraries"
      ],
      "metadata": {
        "id": "Y3lxredqlCYt"
      }
    },
    {
      "cell_type": "code",
      "source": [
        "# Import Libraries\n",
        "import pandas as pd\n",
        "import numpy as np\n",
        "import matplotlib.pyplot as plt\n",
        "import seaborn as sns\n",
        "%matplotlib inline\n",
        "from datetime import datetime\n",
        "from datetime import date\n",
        "from matplotlib import rc\n",
        "from pylab import rcParams\n",
        "\n",
        "from statsmodels.stats.outliers_influence import variance_inflation_factor\n",
        "from sklearn.datasets import load_boston\n",
        "from sklearn.linear_model import Ridge, RidgeCV\n",
        "from sklearn.linear_model import Lasso, LassoCV\n",
        "from sklearn.linear_model import LinearRegression\n",
        "from sklearn.preprocessing import StandardScaler\n",
        "from sklearn.model_selection import train_test_split\n",
        "from sklearn.metrics import mean_squared_error\n",
        "from sklearn.metrics import r2_score\n",
        "from sklearn.linear_model import ElasticNet\n",
        "\n",
        "import warnings\n",
        "warnings.filterwarnings('ignore')\n",
        "\n",
        "from sklearn.model_selection import GridSearchCV"
      ],
      "metadata": {
        "id": "M8Vqi-pPk-HR"
      },
      "execution_count": 507,
      "outputs": []
    },
    {
      "cell_type": "markdown",
      "source": [
        "### Dataset Loading"
      ],
      "metadata": {
        "id": "3RnN4peoiCZX"
      }
    },
    {
      "cell_type": "code",
      "source": [
        "# Load Dataset\n",
        "from google.colab import drive\n",
        "drive.mount('/content/drive')\n",
        "file_path = '/content/drive/MyDrive/AlmaBetter/capstone project/Machine_learning_regression/data_YesBank_StockPrices.csv'\n",
        "df = pd.read_csv(file_path)"
      ],
      "metadata": {
        "id": "4CkvbW_SlZ_R",
        "colab": {
          "base_uri": "https://localhost:8080/"
        },
        "outputId": "335f3407-e526-40b2-e1e1-50c9c9a321f1"
      },
      "execution_count": 508,
      "outputs": [
        {
          "output_type": "stream",
          "name": "stdout",
          "text": [
            "Drive already mounted at /content/drive; to attempt to forcibly remount, call drive.mount(\"/content/drive\", force_remount=True).\n"
          ]
        }
      ]
    },
    {
      "cell_type": "markdown",
      "source": [
        "### Dataset First View"
      ],
      "metadata": {
        "id": "x71ZqKXriCWQ"
      }
    },
    {
      "cell_type": "code",
      "source": [
        "# Dataset First Look\n",
        "df.head()"
      ],
      "metadata": {
        "id": "LWNFOSvLl09H",
        "colab": {
          "base_uri": "https://localhost:8080/",
          "height": 204
        },
        "outputId": "91a5dc85-0379-4358-d940-b052b17aa872"
      },
      "execution_count": 509,
      "outputs": [
        {
          "output_type": "execute_result",
          "data": {
            "text/plain": [
              "     Date   Open   High    Low  Close\n",
              "0  Jul-05  13.00  14.00  11.25  12.46\n",
              "1  Aug-05  12.58  14.88  12.55  13.42\n",
              "2  Sep-05  13.48  14.87  12.27  13.30\n",
              "3  Oct-05  13.20  14.47  12.40  12.99\n",
              "4  Nov-05  13.35  13.88  12.88  13.41"
            ],
            "text/html": [
              "\n",
              "  <div id=\"df-6e3a5c11-95d7-4d44-8c70-5d3d9ccbf3ea\">\n",
              "    <div class=\"colab-df-container\">\n",
              "      <div>\n",
              "<style scoped>\n",
              "    .dataframe tbody tr th:only-of-type {\n",
              "        vertical-align: middle;\n",
              "    }\n",
              "\n",
              "    .dataframe tbody tr th {\n",
              "        vertical-align: top;\n",
              "    }\n",
              "\n",
              "    .dataframe thead th {\n",
              "        text-align: right;\n",
              "    }\n",
              "</style>\n",
              "<table border=\"1\" class=\"dataframe\">\n",
              "  <thead>\n",
              "    <tr style=\"text-align: right;\">\n",
              "      <th></th>\n",
              "      <th>Date</th>\n",
              "      <th>Open</th>\n",
              "      <th>High</th>\n",
              "      <th>Low</th>\n",
              "      <th>Close</th>\n",
              "    </tr>\n",
              "  </thead>\n",
              "  <tbody>\n",
              "    <tr>\n",
              "      <th>0</th>\n",
              "      <td>Jul-05</td>\n",
              "      <td>13.00</td>\n",
              "      <td>14.00</td>\n",
              "      <td>11.25</td>\n",
              "      <td>12.46</td>\n",
              "    </tr>\n",
              "    <tr>\n",
              "      <th>1</th>\n",
              "      <td>Aug-05</td>\n",
              "      <td>12.58</td>\n",
              "      <td>14.88</td>\n",
              "      <td>12.55</td>\n",
              "      <td>13.42</td>\n",
              "    </tr>\n",
              "    <tr>\n",
              "      <th>2</th>\n",
              "      <td>Sep-05</td>\n",
              "      <td>13.48</td>\n",
              "      <td>14.87</td>\n",
              "      <td>12.27</td>\n",
              "      <td>13.30</td>\n",
              "    </tr>\n",
              "    <tr>\n",
              "      <th>3</th>\n",
              "      <td>Oct-05</td>\n",
              "      <td>13.20</td>\n",
              "      <td>14.47</td>\n",
              "      <td>12.40</td>\n",
              "      <td>12.99</td>\n",
              "    </tr>\n",
              "    <tr>\n",
              "      <th>4</th>\n",
              "      <td>Nov-05</td>\n",
              "      <td>13.35</td>\n",
              "      <td>13.88</td>\n",
              "      <td>12.88</td>\n",
              "      <td>13.41</td>\n",
              "    </tr>\n",
              "  </tbody>\n",
              "</table>\n",
              "</div>\n",
              "      <button class=\"colab-df-convert\" onclick=\"convertToInteractive('df-6e3a5c11-95d7-4d44-8c70-5d3d9ccbf3ea')\"\n",
              "              title=\"Convert this dataframe to an interactive table.\"\n",
              "              style=\"display:none;\">\n",
              "        \n",
              "  <svg xmlns=\"http://www.w3.org/2000/svg\" height=\"24px\"viewBox=\"0 0 24 24\"\n",
              "       width=\"24px\">\n",
              "    <path d=\"M0 0h24v24H0V0z\" fill=\"none\"/>\n",
              "    <path d=\"M18.56 5.44l.94 2.06.94-2.06 2.06-.94-2.06-.94-.94-2.06-.94 2.06-2.06.94zm-11 1L8.5 8.5l.94-2.06 2.06-.94-2.06-.94L8.5 2.5l-.94 2.06-2.06.94zm10 10l.94 2.06.94-2.06 2.06-.94-2.06-.94-.94-2.06-.94 2.06-2.06.94z\"/><path d=\"M17.41 7.96l-1.37-1.37c-.4-.4-.92-.59-1.43-.59-.52 0-1.04.2-1.43.59L10.3 9.45l-7.72 7.72c-.78.78-.78 2.05 0 2.83L4 21.41c.39.39.9.59 1.41.59.51 0 1.02-.2 1.41-.59l7.78-7.78 2.81-2.81c.8-.78.8-2.07 0-2.86zM5.41 20L4 18.59l7.72-7.72 1.47 1.35L5.41 20z\"/>\n",
              "  </svg>\n",
              "      </button>\n",
              "      \n",
              "  <style>\n",
              "    .colab-df-container {\n",
              "      display:flex;\n",
              "      flex-wrap:wrap;\n",
              "      gap: 12px;\n",
              "    }\n",
              "\n",
              "    .colab-df-convert {\n",
              "      background-color: #E8F0FE;\n",
              "      border: none;\n",
              "      border-radius: 50%;\n",
              "      cursor: pointer;\n",
              "      display: none;\n",
              "      fill: #1967D2;\n",
              "      height: 32px;\n",
              "      padding: 0 0 0 0;\n",
              "      width: 32px;\n",
              "    }\n",
              "\n",
              "    .colab-df-convert:hover {\n",
              "      background-color: #E2EBFA;\n",
              "      box-shadow: 0px 1px 2px rgba(60, 64, 67, 0.3), 0px 1px 3px 1px rgba(60, 64, 67, 0.15);\n",
              "      fill: #174EA6;\n",
              "    }\n",
              "\n",
              "    [theme=dark] .colab-df-convert {\n",
              "      background-color: #3B4455;\n",
              "      fill: #D2E3FC;\n",
              "    }\n",
              "\n",
              "    [theme=dark] .colab-df-convert:hover {\n",
              "      background-color: #434B5C;\n",
              "      box-shadow: 0px 1px 3px 1px rgba(0, 0, 0, 0.15);\n",
              "      filter: drop-shadow(0px 1px 2px rgba(0, 0, 0, 0.3));\n",
              "      fill: #FFFFFF;\n",
              "    }\n",
              "  </style>\n",
              "\n",
              "      <script>\n",
              "        const buttonEl =\n",
              "          document.querySelector('#df-6e3a5c11-95d7-4d44-8c70-5d3d9ccbf3ea button.colab-df-convert');\n",
              "        buttonEl.style.display =\n",
              "          google.colab.kernel.accessAllowed ? 'block' : 'none';\n",
              "\n",
              "        async function convertToInteractive(key) {\n",
              "          const element = document.querySelector('#df-6e3a5c11-95d7-4d44-8c70-5d3d9ccbf3ea');\n",
              "          const dataTable =\n",
              "            await google.colab.kernel.invokeFunction('convertToInteractive',\n",
              "                                                     [key], {});\n",
              "          if (!dataTable) return;\n",
              "\n",
              "          const docLinkHtml = 'Like what you see? Visit the ' +\n",
              "            '<a target=\"_blank\" href=https://colab.research.google.com/notebooks/data_table.ipynb>data table notebook</a>'\n",
              "            + ' to learn more about interactive tables.';\n",
              "          element.innerHTML = '';\n",
              "          dataTable['output_type'] = 'display_data';\n",
              "          await google.colab.output.renderOutput(dataTable, element);\n",
              "          const docLink = document.createElement('div');\n",
              "          docLink.innerHTML = docLinkHtml;\n",
              "          element.appendChild(docLink);\n",
              "        }\n",
              "      </script>\n",
              "    </div>\n",
              "  </div>\n",
              "  "
            ]
          },
          "metadata": {},
          "execution_count": 509
        }
      ]
    },
    {
      "cell_type": "markdown",
      "source": [
        "### Dataset Rows & Columns count"
      ],
      "metadata": {
        "id": "7hBIi_osiCS2"
      }
    },
    {
      "cell_type": "code",
      "source": [
        "# Dataset Rows & Columns count\n",
        "df.shape"
      ],
      "metadata": {
        "id": "Kllu7SJgmLij",
        "colab": {
          "base_uri": "https://localhost:8080/"
        },
        "outputId": "9353d4e2-fd36-4ceb-a781-0778522648d0"
      },
      "execution_count": 510,
      "outputs": [
        {
          "output_type": "execute_result",
          "data": {
            "text/plain": [
              "(185, 5)"
            ]
          },
          "metadata": {},
          "execution_count": 510
        }
      ]
    },
    {
      "cell_type": "markdown",
      "source": [
        "### Dataset Information"
      ],
      "metadata": {
        "id": "JlHwYmJAmNHm"
      }
    },
    {
      "cell_type": "code",
      "source": [
        "# Dataset Info\n",
        "df.info()"
      ],
      "metadata": {
        "id": "e9hRXRi6meOf",
        "colab": {
          "base_uri": "https://localhost:8080/"
        },
        "outputId": "e06899a7-1ca1-4f41-ee37-6c0ad3b4f90c"
      },
      "execution_count": 511,
      "outputs": [
        {
          "output_type": "stream",
          "name": "stdout",
          "text": [
            "<class 'pandas.core.frame.DataFrame'>\n",
            "RangeIndex: 185 entries, 0 to 184\n",
            "Data columns (total 5 columns):\n",
            " #   Column  Non-Null Count  Dtype  \n",
            "---  ------  --------------  -----  \n",
            " 0   Date    185 non-null    object \n",
            " 1   Open    185 non-null    float64\n",
            " 2   High    185 non-null    float64\n",
            " 3   Low     185 non-null    float64\n",
            " 4   Close   185 non-null    float64\n",
            "dtypes: float64(4), object(1)\n",
            "memory usage: 7.4+ KB\n"
          ]
        }
      ]
    },
    {
      "cell_type": "markdown",
      "source": [
        "#### Duplicate Values"
      ],
      "metadata": {
        "id": "35m5QtbWiB9F"
      }
    },
    {
      "cell_type": "code",
      "source": [
        "# Dataset Duplicate Value Count\n",
        "len(df[df.duplicated()])"
      ],
      "metadata": {
        "id": "1sLdpKYkmox0",
        "colab": {
          "base_uri": "https://localhost:8080/"
        },
        "outputId": "cf6f8a2d-8f14-422b-b4a6-49804136c46f"
      },
      "execution_count": 512,
      "outputs": [
        {
          "output_type": "execute_result",
          "data": {
            "text/plain": [
              "0"
            ]
          },
          "metadata": {},
          "execution_count": 512
        }
      ]
    },
    {
      "cell_type": "markdown",
      "source": [
        "#### Missing Values/Null Values"
      ],
      "metadata": {
        "id": "PoPl-ycgm1ru"
      }
    },
    {
      "cell_type": "code",
      "source": [
        "# Missing Values/Null Values Count\n",
        "df.isnull().sum()"
      ],
      "metadata": {
        "id": "GgHWkxvamxVg",
        "colab": {
          "base_uri": "https://localhost:8080/"
        },
        "outputId": "e78f4386-54ef-47f9-e257-2355cf8fff64"
      },
      "execution_count": 513,
      "outputs": [
        {
          "output_type": "execute_result",
          "data": {
            "text/plain": [
              "Date     0\n",
              "Open     0\n",
              "High     0\n",
              "Low      0\n",
              "Close    0\n",
              "dtype: int64"
            ]
          },
          "metadata": {},
          "execution_count": 513
        }
      ]
    },
    {
      "cell_type": "code",
      "source": [
        "# Visualizing the missing values\n",
        "sns.heatmap(df.isnull(),cbar = False)"
      ],
      "metadata": {
        "id": "3q5wnI3om9sJ",
        "colab": {
          "base_uri": "https://localhost:8080/",
          "height": 287
        },
        "outputId": "204da117-ed27-45f0-e789-f784859ff72e"
      },
      "execution_count": 514,
      "outputs": [
        {
          "output_type": "execute_result",
          "data": {
            "text/plain": [
              "<matplotlib.axes._subplots.AxesSubplot at 0x7eff6f475940>"
            ]
          },
          "metadata": {},
          "execution_count": 514
        },
        {
          "output_type": "display_data",
          "data": {
            "text/plain": [
              "<Figure size 432x288 with 1 Axes>"
            ],
            "image/png": "[encoded data removed]"
          },
          "metadata": {
            "needs_background": "light"
          }
        }
      ]
    },
    {
      "cell_type": "markdown",
      "source": [
        "### What did you know about your dataset?"
      ],
      "metadata": {
        "id": "H0kj-8xxnORC"
      }
    },
    {
      "cell_type": "markdown",
      "source": [
        "The dataset consists of five columns - open, close, high, low. There are no duplicated values, and there are no null values in the dataset. Dataset consists of 185 rows."
      ],
      "metadata": {
        "id": "gfoNAAC-nUe_"
      }
    },
    {
      "cell_type": "markdown",
      "source": [
        "## ***2. Understanding Your Variables***"
      ],
      "metadata": {
        "id": "nA9Y7ga8ng1Z"
      }
    },
    {
      "cell_type": "code",
      "source": [
        "# Dataset Columns\n",
        "df.columns"
      ],
      "metadata": {
        "id": "j7xfkqrt5Ag5",
        "colab": {
          "base_uri": "https://localhost:8080/"
        },
        "outputId": "97fd8925-9dd3-477b-9942-6a9a7158711f"
      },
      "execution_count": 515,
      "outputs": [
        {
          "output_type": "execute_result",
          "data": {
            "text/plain": [
              "Index(['Date', 'Open', 'High', 'Low', 'Close'], dtype='object')"
            ]
          },
          "metadata": {},
          "execution_count": 515
        }
      ]
    },
    {
      "cell_type": "code",
      "source": [
        "# Dataset Describe\n",
        "df.describe()"
      ],
      "metadata": {
        "id": "DnOaZdaE5Q5t",
        "colab": {
          "base_uri": "https://localhost:8080/",
          "height": 297
        },
        "outputId": "97d039f8-f2c4-4642-fb1c-3b289bf39f33"
      },
      "execution_count": 516,
      "outputs": [
        {
          "output_type": "execute_result",
          "data": {
            "text/plain": [
              "             Open        High         Low       Close\n",
              "count  185.000000  185.000000  185.000000  185.000000\n",
              "mean   105.541405  116.104324   94.947838  105.204703\n",
              "std     98.879850  106.333497   91.219415   98.583153\n",
              "min     10.000000   11.240000    5.550000    9.980000\n",
              "25%     33.800000   36.140000   28.510000   33.450000\n",
              "50%     62.980000   72.550000   58.000000   62.540000\n",
              "75%    153.000000  169.190000  138.350000  153.300000\n",
              "max    369.950000  404.000000  345.500000  367.900000"
            ],
            "text/html": [
              "\n",
              "  <div id=\"df-9568331b-1cc8-4520-b88d-81a1910c8857\">\n",
              "    <div class=\"colab-df-container\">\n",
              "      <div>\n",
              "<style scoped>\n",
              "    .dataframe tbody tr th:only-of-type {\n",
              "        vertical-align: middle;\n",
              "    }\n",
              "\n",
              "    .dataframe tbody tr th {\n",
              "        vertical-align: top;\n",
              "    }\n",
              "\n",
              "    .dataframe thead th {\n",
              "        text-align: right;\n",
              "    }\n",
              "</style>\n",
              "<table border=\"1\" class=\"dataframe\">\n",
              "  <thead>\n",
              "    <tr style=\"text-align: right;\">\n",
              "      <th></th>\n",
              "      <th>Open</th>\n",
              "      <th>High</th>\n",
              "      <th>Low</th>\n",
              "      <th>Close</th>\n",
              "    </tr>\n",
              "  </thead>\n",
              "  <tbody>\n",
              "    <tr>\n",
              "      <th>count</th>\n",
              "      <td>185.000000</td>\n",
              "      <td>185.000000</td>\n",
              "      <td>185.000000</td>\n",
              "      <td>185.000000</td>\n",
              "    </tr>\n",
              "    <tr>\n",
              "      <th>mean</th>\n",
              "      <td>105.541405</td>\n",
              "      <td>116.104324</td>\n",
              "      <td>94.947838</td>\n",
              "      <td>105.204703</td>\n",
              "    </tr>\n",
              "    <tr>\n",
              "      <th>std</th>\n",
              "      <td>98.879850</td>\n",
              "      <td>106.333497</td>\n",
              "      <td>91.219415</td>\n",
              "      <td>98.583153</td>\n",
              "    </tr>\n",
              "    <tr>\n",
              "      <th>min</th>\n",
              "      <td>10.000000</td>\n",
              "      <td>11.240000</td>\n",
              "      <td>5.550000</td>\n",
              "      <td>9.980000</td>\n",
              "    </tr>\n",
              "    <tr>\n",
              "      <th>25%</th>\n",
              "      <td>33.800000</td>\n",
              "      <td>36.140000</td>\n",
              "      <td>28.510000</td>\n",
              "      <td>33.450000</td>\n",
              "    </tr>\n",
              "    <tr>\n",
              "      <th>50%</th>\n",
              "      <td>62.980000</td>\n",
              "      <td>72.550000</td>\n",
              "      <td>58.000000</td>\n",
              "      <td>62.540000</td>\n",
              "    </tr>\n",
              "    <tr>\n",
              "      <th>75%</th>\n",
              "      <td>153.000000</td>\n",
              "      <td>169.190000</td>\n",
              "      <td>138.350000</td>\n",
              "      <td>153.300000</td>\n",
              "    </tr>\n",
              "    <tr>\n",
              "      <th>max</th>\n",
              "      <td>369.950000</td>\n",
              "      <td>404.000000</td>\n",
              "      <td>345.500000</td>\n",
              "      <td>367.900000</td>\n",
              "    </tr>\n",
              "  </tbody>\n",
              "</table>\n",
              "</div>\n",
              "      <button class=\"colab-df-convert\" onclick=\"convertToInteractive('df-9568331b-1cc8-4520-b88d-81a1910c8857')\"\n",
              "              title=\"Convert this dataframe to an interactive table.\"\n",
              "              style=\"display:none;\">\n",
              "        \n",
              "  <svg xmlns=\"http://www.w3.org/2000/svg\" height=\"24px\"viewBox=\"0 0 24 24\"\n",
              "       width=\"24px\">\n",
              "    <path d=\"M0 0h24v24H0V0z\" fill=\"none\"/>\n",
              "    <path d=\"M18.56 5.44l.94 2.06.94-2.06 2.06-.94-2.06-.94-.94-2.06-.94 2.06-2.06.94zm-11 1L8.5 8.5l.94-2.06 2.06-.94-2.06-.94L8.5 2.5l-.94 2.06-2.06.94zm10 10l.94 2.06.94-2.06 2.06-.94-2.06-.94-.94-2.06-.94 2.06-2.06.94z\"/><path d=\"M17.41 7.96l-1.37-1.37c-.4-.4-.92-.59-1.43-.59-.52 0-1.04.2-1.43.59L10.3 9.45l-7.72 7.72c-.78.78-.78 2.05 0 2.83L4 21.41c.39.39.9.59 1.41.59.51 0 1.02-.2 1.41-.59l7.78-7.78 2.81-2.81c.8-.78.8-2.07 0-2.86zM5.41 20L4 18.59l7.72-7.72 1.47 1.35L5.41 20z\"/>\n",
              "  </svg>\n",
              "      </button>\n",
              "      \n",
              "  <style>\n",
              "    .colab-df-container {\n",
              "      display:flex;\n",
              "      flex-wrap:wrap;\n",
              "      gap: 12px;\n",
              "    }\n",
              "\n",
              "    .colab-df-convert {\n",
              "      background-color: #E8F0FE;\n",
              "      border: none;\n",
              "      border-radius: 50%;\n",
              "      cursor: pointer;\n",
              "      display: none;\n",
              "      fill: #1967D2;\n",
              "      height: 32px;\n",
              "      padding: 0 0 0 0;\n",
              "      width: 32px;\n",
              "    }\n",
              "\n",
              "    .colab-df-convert:hover {\n",
              "      background-color: #E2EBFA;\n",
              "      box-shadow: 0px 1px 2px rgba(60, 64, 67, 0.3), 0px 1px 3px 1px rgba(60, 64, 67, 0.15);\n",
              "      fill: #174EA6;\n",
              "    }\n",
              "\n",
              "    [theme=dark] .colab-df-convert {\n",
              "      background-color: #3B4455;\n",
              "      fill: #D2E3FC;\n",
              "    }\n",
              "\n",
              "    [theme=dark] .colab-df-convert:hover {\n",
              "      background-color: #434B5C;\n",
              "      box-shadow: 0px 1px 3px 1px rgba(0, 0, 0, 0.15);\n",
              "      filter: drop-shadow(0px 1px 2px rgba(0, 0, 0, 0.3));\n",
              "      fill: #FFFFFF;\n",
              "    }\n",
              "  </style>\n",
              "\n",
              "      <script>\n",
              "        const buttonEl =\n",
              "          document.querySelector('#df-9568331b-1cc8-4520-b88d-81a1910c8857 button.colab-df-convert');\n",
              "        buttonEl.style.display =\n",
              "          google.colab.kernel.accessAllowed ? 'block' : 'none';\n",
              "\n",
              "        async function convertToInteractive(key) {\n",
              "          const element = document.querySelector('#df-9568331b-1cc8-4520-b88d-81a1910c8857');\n",
              "          const dataTable =\n",
              "            await google.colab.kernel.invokeFunction('convertToInteractive',\n",
              "                                                     [key], {});\n",
              "          if (!dataTable) return;\n",
              "\n",
              "          const docLinkHtml = 'Like what you see? Visit the ' +\n",
              "            '<a target=\"_blank\" href=https://colab.research.google.com/notebooks/data_table.ipynb>data table notebook</a>'\n",
              "            + ' to learn more about interactive tables.';\n",
              "          element.innerHTML = '';\n",
              "          dataTable['output_type'] = 'display_data';\n",
              "          await google.colab.output.renderOutput(dataTable, element);\n",
              "          const docLink = document.createElement('div');\n",
              "          docLink.innerHTML = docLinkHtml;\n",
              "          element.appendChild(docLink);\n",
              "        }\n",
              "      </script>\n",
              "    </div>\n",
              "  </div>\n",
              "  "
            ]
          },
          "metadata": {},
          "execution_count": 516
        }
      ]
    },
    {
      "cell_type": "markdown",
      "source": [
        "### Variables Description "
      ],
      "metadata": {
        "id": "PBTbrJXOngz2"
      }
    },
    {
      "cell_type": "markdown",
      "source": [
        "Open - Opening price\n",
        "\n",
        "Close - Closing price\n",
        "\n",
        "Low - lowest price in the date\n",
        "\n",
        "High - Highest price in the date "
      ],
      "metadata": {
        "id": "aJV4KIxSnxay"
      }
    },
    {
      "cell_type": "markdown",
      "source": [
        "### Check Unique Values for each variable."
      ],
      "metadata": {
        "id": "u3PMJOP6ngxN"
      }
    },
    {
      "cell_type": "code",
      "source": [
        "# Check Unique Values for each variable.\n",
        "for i in df.columns.to_list():\n",
        "  print('''No of unique variable in''' ,i.lower() ,'''is''' ,df[i].nunique())\n",
        "\n"
      ],
      "metadata": {
        "id": "zms12Yq5n-jE",
        "colab": {
          "base_uri": "https://localhost:8080/"
        },
        "outputId": "38b21138-4558-44f4-f7db-2ebe1f6dd77f"
      },
      "execution_count": 517,
      "outputs": [
        {
          "output_type": "stream",
          "name": "stdout",
          "text": [
            "No of unique variable in date is 185\n",
            "No of unique variable in open is 183\n",
            "No of unique variable in high is 184\n",
            "No of unique variable in low is 183\n",
            "No of unique variable in close is 185\n"
          ]
        }
      ]
    },
    {
      "cell_type": "markdown",
      "source": [
        "## 3. ***Data Wrangling***"
      ],
      "metadata": {
        "id": "dauF4eBmngu3"
      }
    },
    {
      "cell_type": "markdown",
      "source": [
        "### Data Wrangling Code"
      ],
      "metadata": {
        "id": "bKJF3rekwFvQ"
      }
    },
    {
      "cell_type": "code",
      "source": [
        "df['Date'].unique()"
      ],
      "metadata": {
        "id": "47PqTy1W-CeR",
        "colab": {
          "base_uri": "https://localhost:8080/"
        },
        "outputId": "fa3ec528-4e35-4659-da1a-2fa173b063f6"
      },
      "execution_count": 518,
      "outputs": [
        {
          "output_type": "execute_result",
          "data": {
            "text/plain": [
              "array(['Jul-05', 'Aug-05', 'Sep-05', 'Oct-05', 'Nov-05', 'Dec-05',\n",
              "       'Jan-06', 'Feb-06', 'Mar-06', 'Apr-06', 'May-06', 'Jun-06',\n",
              "       'Jul-06', 'Aug-06', 'Sep-06', 'Oct-06', 'Nov-06', 'Dec-06',\n",
              "       'Jan-07', 'Feb-07', 'Mar-07', 'Apr-07', 'May-07', 'Jun-07',\n",
              "       'Jul-07', 'Aug-07', 'Sep-07', 'Oct-07', 'Nov-07', 'Dec-07',\n",
              "       'Jan-08', 'Feb-08', 'Mar-08', 'Apr-08', 'May-08', 'Jun-08',\n",
              "       'Jul-08', 'Aug-08', 'Sep-08', 'Oct-08', 'Nov-08', 'Dec-08',\n",
              "       'Jan-09', 'Feb-09', 'Mar-09', 'Apr-09', 'May-09', 'Jun-09',\n",
              "       'Jul-09', 'Aug-09', 'Sep-09', 'Oct-09', 'Nov-09', 'Dec-09',\n",
              "       'Jan-10', 'Feb-10', 'Mar-10', 'Apr-10', 'May-10', 'Jun-10',\n",
              "       'Jul-10', 'Aug-10', 'Sep-10', 'Oct-10', 'Nov-10', 'Dec-10',\n",
              "       'Jan-11', 'Feb-11', 'Mar-11', 'Apr-11', 'May-11', 'Jun-11',\n",
              "       'Jul-11', 'Aug-11', 'Sep-11', 'Oct-11', 'Nov-11', 'Dec-11',\n",
              "       'Jan-12', 'Feb-12', 'Mar-12', 'Apr-12', 'May-12', 'Jun-12',\n",
              "       'Jul-12', 'Aug-12', 'Sep-12', 'Oct-12', 'Nov-12', 'Dec-12',\n",
              "       'Jan-13', 'Feb-13', 'Mar-13', 'Apr-13', 'May-13', 'Jun-13',\n",
              "       'Jul-13', 'Aug-13', 'Sep-13', 'Oct-13', 'Nov-13', 'Dec-13',\n",
              "       'Jan-14', 'Feb-14', 'Mar-14', 'Apr-14', 'May-14', 'Jun-14',\n",
              "       'Jul-14', 'Aug-14', 'Sep-14', 'Oct-14', 'Nov-14', 'Dec-14',\n",
              "       'Jan-15', 'Feb-15', 'Mar-15', 'Apr-15', 'May-15', 'Jun-15',\n",
              "       'Jul-15', 'Aug-15', 'Sep-15', 'Oct-15', 'Nov-15', 'Dec-15',\n",
              "       'Jan-16', 'Feb-16', 'Mar-16', 'Apr-16', 'May-16', 'Jun-16',\n",
              "       'Jul-16', 'Aug-16', 'Sep-16', 'Oct-16', 'Nov-16', 'Dec-16',\n",
              "       'Jan-17', 'Feb-17', 'Mar-17', 'Apr-17', 'May-17', 'Jun-17',\n",
              "       'Jul-17', 'Aug-17', 'Sep-17', 'Oct-17', 'Nov-17', 'Dec-17',\n",
              "       'Jan-18', 'Feb-18', 'Mar-18', 'Apr-18', 'May-18', 'Jun-18',\n",
              "       'Jul-18', 'Aug-18', 'Sep-18', 'Oct-18', 'Nov-18', 'Dec-18',\n",
              "       'Jan-19', 'Feb-19', 'Mar-19', 'Apr-19', 'May-19', 'Jun-19',\n",
              "       'Jul-19', 'Aug-19', 'Sep-19', 'Oct-19', 'Nov-19', 'Dec-19',\n",
              "       'Jan-20', 'Feb-20', 'Mar-20', 'Apr-20', 'May-20', 'Jun-20',\n",
              "       'Jul-20', 'Aug-20', 'Sep-20', 'Oct-20', 'Nov-20'], dtype=object)"
            ]
          },
          "metadata": {},
          "execution_count": 518
        }
      ]
    },
    {
      "cell_type": "code",
      "source": [
        "# Getting highest and lowest traded price of the stock\n",
        "Highest_stock_Price = df['Close'].max()\n",
        "print(f'Highest price of the stock is {Highest_stock_Price}')\n",
        "\n",
        "Lowest_stock_price = df['Close'].min()\n",
        "print(f'Lowest price of the stock is {Lowest_stock_price}')"
      ],
      "metadata": {
        "colab": {
          "base_uri": "https://localhost:8080/"
        },
        "id": "M5pT54QSMRsR",
        "outputId": "ded19cad-edc8-42ce-eade-26dfb9c31c37"
      },
      "execution_count": 519,
      "outputs": [
        {
          "output_type": "stream",
          "name": "stdout",
          "text": [
            "Highest price of the stock is 367.9\n",
            "Lowest price of the stock is 9.98\n"
          ]
        }
      ]
    },
    {
      "cell_type": "code",
      "source": [
        "# Creating a new column for year extrating the data from date\n",
        "df['year'] = df['Date'].apply(lambda x:x[-2:])\n",
        "df.head()\n",
        "df_avg_price_year = df.groupby('year')['Close'].median().reset_index()\n",
        "df_avg_price_year.head()"
      ],
      "metadata": {
        "colab": {
          "base_uri": "https://localhost:8080/",
          "height": 204
        },
        "id": "tSuoiD82Oflg",
        "outputId": "62036168-6109-4858-c677-696d8de55649"
      },
      "execution_count": 520,
      "outputs": [
        {
          "output_type": "execute_result",
          "data": {
            "text/plain": [
              "  year   Close\n",
              "0   05  13.355\n",
              "1   06  18.245\n",
              "2   07  36.485\n",
              "3   08  26.140\n",
              "4   09  30.805"
            ],
            "text/html": [
              "\n",
              "  <div id=\"df-0881ea8b-5574-4a5d-985f-93445d3133e8\">\n",
              "    <div class=\"colab-df-container\">\n",
              "      <div>\n",
              "<style scoped>\n",
              "    .dataframe tbody tr th:only-of-type {\n",
              "        vertical-align: middle;\n",
              "    }\n",
              "\n",
              "    .dataframe tbody tr th {\n",
              "        vertical-align: top;\n",
              "    }\n",
              "\n",
              "    .dataframe thead th {\n",
              "        text-align: right;\n",
              "    }\n",
              "</style>\n",
              "<table border=\"1\" class=\"dataframe\">\n",
              "  <thead>\n",
              "    <tr style=\"text-align: right;\">\n",
              "      <th></th>\n",
              "      <th>year</th>\n",
              "      <th>Close</th>\n",
              "    </tr>\n",
              "  </thead>\n",
              "  <tbody>\n",
              "    <tr>\n",
              "      <th>0</th>\n",
              "      <td>05</td>\n",
              "      <td>13.355</td>\n",
              "    </tr>\n",
              "    <tr>\n",
              "      <th>1</th>\n",
              "      <td>06</td>\n",
              "      <td>18.245</td>\n",
              "    </tr>\n",
              "    <tr>\n",
              "      <th>2</th>\n",
              "      <td>07</td>\n",
              "      <td>36.485</td>\n",
              "    </tr>\n",
              "    <tr>\n",
              "      <th>3</th>\n",
              "      <td>08</td>\n",
              "      <td>26.140</td>\n",
              "    </tr>\n",
              "    <tr>\n",
              "      <th>4</th>\n",
              "      <td>09</td>\n",
              "      <td>30.805</td>\n",
              "    </tr>\n",
              "  </tbody>\n",
              "</table>\n",
              "</div>\n",
              "      <button class=\"colab-df-convert\" onclick=\"convertToInteractive('df-0881ea8b-5574-4a5d-985f-93445d3133e8')\"\n",
              "              title=\"Convert this dataframe to an interactive table.\"\n",
              "              style=\"display:none;\">\n",
              "        \n",
              "  <svg xmlns=\"http://www.w3.org/2000/svg\" height=\"24px\"viewBox=\"0 0 24 24\"\n",
              "       width=\"24px\">\n",
              "    <path d=\"M0 0h24v24H0V0z\" fill=\"none\"/>\n",
              "    <path d=\"M18.56 5.44l.94 2.06.94-2.06 2.06-.94-2.06-.94-.94-2.06-.94 2.06-2.06.94zm-11 1L8.5 8.5l.94-2.06 2.06-.94-2.06-.94L8.5 2.5l-.94 2.06-2.06.94zm10 10l.94 2.06.94-2.06 2.06-.94-2.06-.94-.94-2.06-.94 2.06-2.06.94z\"/><path d=\"M17.41 7.96l-1.37-1.37c-.4-.4-.92-.59-1.43-.59-.52 0-1.04.2-1.43.59L10.3 9.45l-7.72 7.72c-.78.78-.78 2.05 0 2.83L4 21.41c.39.39.9.59 1.41.59.51 0 1.02-.2 1.41-.59l7.78-7.78 2.81-2.81c.8-.78.8-2.07 0-2.86zM5.41 20L4 18.59l7.72-7.72 1.47 1.35L5.41 20z\"/>\n",
              "  </svg>\n",
              "      </button>\n",
              "      \n",
              "  <style>\n",
              "    .colab-df-container {\n",
              "      display:flex;\n",
              "      flex-wrap:wrap;\n",
              "      gap: 12px;\n",
              "    }\n",
              "\n",
              "    .colab-df-convert {\n",
              "      background-color: #E8F0FE;\n",
              "      border: none;\n",
              "      border-radius: 50%;\n",
              "      cursor: pointer;\n",
              "      display: none;\n",
              "      fill: #1967D2;\n",
              "      height: 32px;\n",
              "      padding: 0 0 0 0;\n",
              "      width: 32px;\n",
              "    }\n",
              "\n",
              "    .colab-df-convert:hover {\n",
              "      background-color: #E2EBFA;\n",
              "      box-shadow: 0px 1px 2px rgba(60, 64, 67, 0.3), 0px 1px 3px 1px rgba(60, 64, 67, 0.15);\n",
              "      fill: #174EA6;\n",
              "    }\n",
              "\n",
              "    [theme=dark] .colab-df-convert {\n",
              "      background-color: #3B4455;\n",
              "      fill: #D2E3FC;\n",
              "    }\n",
              "\n",
              "    [theme=dark] .colab-df-convert:hover {\n",
              "      background-color: #434B5C;\n",
              "      box-shadow: 0px 1px 3px 1px rgba(0, 0, 0, 0.15);\n",
              "      filter: drop-shadow(0px 1px 2px rgba(0, 0, 0, 0.3));\n",
              "      fill: #FFFFFF;\n",
              "    }\n",
              "  </style>\n",
              "\n",
              "      <script>\n",
              "        const buttonEl =\n",
              "          document.querySelector('#df-0881ea8b-5574-4a5d-985f-93445d3133e8 button.colab-df-convert');\n",
              "        buttonEl.style.display =\n",
              "          google.colab.kernel.accessAllowed ? 'block' : 'none';\n",
              "\n",
              "        async function convertToInteractive(key) {\n",
              "          const element = document.querySelector('#df-0881ea8b-5574-4a5d-985f-93445d3133e8');\n",
              "          const dataTable =\n",
              "            await google.colab.kernel.invokeFunction('convertToInteractive',\n",
              "                                                     [key], {});\n",
              "          if (!dataTable) return;\n",
              "\n",
              "          const docLinkHtml = 'Like what you see? Visit the ' +\n",
              "            '<a target=\"_blank\" href=https://colab.research.google.com/notebooks/data_table.ipynb>data table notebook</a>'\n",
              "            + ' to learn more about interactive tables.';\n",
              "          element.innerHTML = '';\n",
              "          dataTable['output_type'] = 'display_data';\n",
              "          await google.colab.output.renderOutput(dataTable, element);\n",
              "          const docLink = document.createElement('div');\n",
              "          docLink.innerHTML = docLinkHtml;\n",
              "          element.appendChild(docLink);\n",
              "        }\n",
              "      </script>\n",
              "    </div>\n",
              "  </div>\n",
              "  "
            ]
          },
          "metadata": {},
          "execution_count": 520
        }
      ]
    },
    {
      "cell_type": "code",
      "source": [
        "#Getting precentage of stock price year wise\n",
        "divide = [12.46]\n",
        "percentage = []\n",
        "for i in df_avg_price_year['Close'].to_list():\n",
        "  divide.append(i)\n",
        "  value = (divide.index(i))-1\n",
        " \n",
        "  x = round(((i/divide[value])*100)-100,2)\n",
        "  percentage.append(x)\n",
        "\n",
        "print(percentage)\n",
        " \n",
        "    \n",
        "\n"
      ],
      "metadata": {
        "colab": {
          "base_uri": "https://localhost:8080/"
        },
        "id": "N1Sy9bioWEy-",
        "outputId": "ad9be07e-0ec4-47e0-f686-0e1c25b1f720"
      },
      "execution_count": 521,
      "outputs": [
        {
          "output_type": "stream",
          "name": "stdout",
          "text": [
            "[7.18, 36.62, 99.97, -28.35, 17.85, 89.19, -0.75, 23.55, 11.76, 37.78, 49.51, 37.54, 37.92, 6.04, -69.78, -77.55]\n"
          ]
        }
      ]
    },
    {
      "cell_type": "code",
      "source": [
        "# Getting one day percentage of movement from open to close\n",
        "df['Onedaychange'] = ((df['Close']-df['Open'])/df['Open'])*100\n",
        "df['Onedaychange'].head()"
      ],
      "metadata": {
        "id": "-p5wUrhq-Nqd",
        "colab": {
          "base_uri": "https://localhost:8080/"
        },
        "outputId": "02d92784-1f35-405f-f024-2c6ebd0f804e"
      },
      "execution_count": 522,
      "outputs": [
        {
          "output_type": "execute_result",
          "data": {
            "text/plain": [
              "0   -4.153846\n",
              "1    6.677266\n",
              "2   -1.335312\n",
              "3   -1.590909\n",
              "4    0.449438\n",
              "Name: Onedaychange, dtype: float64"
            ]
          },
          "metadata": {},
          "execution_count": 522
        }
      ]
    },
    {
      "cell_type": "code",
      "source": [
        "# getting the single day perentage from low to high\n",
        "df['singledaychange_low_high'] = ((df['High'] - df['Low'])/df['Low'])*100\n",
        "\n"
      ],
      "metadata": {
        "id": "BCTMiGh7dZd4"
      },
      "execution_count": 523,
      "outputs": []
    },
    {
      "cell_type": "code",
      "source": [
        "df['singledaychange_low_high'].min()"
      ],
      "metadata": {
        "colab": {
          "base_uri": "https://localhost:8080/"
        },
        "id": "xRZtLDRf_4SV",
        "outputId": "881e9c08-2e0c-4c3e-876b-ea6da7a9ff87"
      },
      "execution_count": 524,
      "outputs": [
        {
          "output_type": "execute_result",
          "data": {
            "text/plain": [
              "6.103442541160827"
            ]
          },
          "metadata": {},
          "execution_count": 524
        }
      ]
    },
    {
      "cell_type": "code",
      "source": [
        "df['singledaychange_low_high'].max()"
      ],
      "metadata": {
        "colab": {
          "base_uri": "https://localhost:8080/"
        },
        "id": "bbHLMjrW_8MT",
        "outputId": "2a1b6547-9a2e-4175-b2c0-7c494c43372d"
      },
      "execution_count": 525,
      "outputs": [
        {
          "output_type": "execute_result",
          "data": {
            "text/plain": [
              "1484.6846846846847"
            ]
          },
          "metadata": {},
          "execution_count": 525
        }
      ]
    },
    {
      "cell_type": "code",
      "source": [
        "df['Onedaychange'].min()"
      ],
      "metadata": {
        "colab": {
          "base_uri": "https://localhost:8080/"
        },
        "id": "auP87b5uu9fX",
        "outputId": "358efc07-cbf4-4d05-cd09-5c5262dd1f1a"
      },
      "execution_count": 526,
      "outputs": [
        {
          "output_type": "execute_result",
          "data": {
            "text/plain": [
              "-53.3203125"
            ]
          },
          "metadata": {},
          "execution_count": 526
        }
      ]
    },
    {
      "cell_type": "code",
      "source": [
        "df['Onedaychange'].max()"
      ],
      "metadata": {
        "colab": {
          "base_uri": "https://localhost:8080/"
        },
        "id": "BKzC5AgVu2bF",
        "outputId": "63dfefed-0e26-423b-dfd5-81f30c88f1a0"
      },
      "execution_count": 527,
      "outputs": [
        {
          "output_type": "execute_result",
          "data": {
            "text/plain": [
              "67.73809523809524"
            ]
          },
          "metadata": {},
          "execution_count": 527
        }
      ]
    },
    {
      "cell_type": "code",
      "source": [
        "# creating the column formatted date in data format instead of string\n",
        "df['Formatted_date']=df.apply(lambda x : datetime.strptime(x['Date'],'%b-%y'),axis=1)\n",
        "df.head()"
      ],
      "metadata": {
        "id": "_TRrFZWUgDC_",
        "colab": {
          "base_uri": "https://localhost:8080/",
          "height": 204
        },
        "outputId": "a2276d18-35f7-4066-e651-5eacce0945c4"
      },
      "execution_count": 528,
      "outputs": [
        {
          "output_type": "execute_result",
          "data": {
            "text/plain": [
              "     Date   Open   High    Low  Close year  Onedaychange  \\\n",
              "0  Jul-05  13.00  14.00  11.25  12.46   05     -4.153846   \n",
              "1  Aug-05  12.58  14.88  12.55  13.42   05      6.677266   \n",
              "2  Sep-05  13.48  14.87  12.27  13.30   05     -1.335312   \n",
              "3  Oct-05  13.20  14.47  12.40  12.99   05     -1.590909   \n",
              "4  Nov-05  13.35  13.88  12.88  13.41   05      0.449438   \n",
              "\n",
              "   singledaychange_low_high Formatted_date  \n",
              "0                 24.444444     2005-07-01  \n",
              "1                 18.565737     2005-08-01  \n",
              "2                 21.189894     2005-09-01  \n",
              "3                 16.693548     2005-10-01  \n",
              "4                  7.763975     2005-11-01  "
            ],
            "text/html": [
              "\n",
              "  <div id=\"df-713de3be-3cb8-4e5f-835a-dc66aabd8198\">\n",
              "    <div class=\"colab-df-container\">\n",
              "      <div>\n",
              "<style scoped>\n",
              "    .dataframe tbody tr th:only-of-type {\n",
              "        vertical-align: middle;\n",
              "    }\n",
              "\n",
              "    .dataframe tbody tr th {\n",
              "        vertical-align: top;\n",
              "    }\n",
              "\n",
              "    .dataframe thead th {\n",
              "        text-align: right;\n",
              "    }\n",
              "</style>\n",
              "<table border=\"1\" class=\"dataframe\">\n",
              "  <thead>\n",
              "    <tr style=\"text-align: right;\">\n",
              "      <th></th>\n",
              "      <th>Date</th>\n",
              "      <th>Open</th>\n",
              "      <th>High</th>\n",
              "      <th>Low</th>\n",
              "      <th>Close</th>\n",
              "      <th>year</th>\n",
              "      <th>Onedaychange</th>\n",
              "      <th>singledaychange_low_high</th>\n",
              "      <th>Formatted_date</th>\n",
              "    </tr>\n",
              "  </thead>\n",
              "  <tbody>\n",
              "    <tr>\n",
              "      <th>0</th>\n",
              "      <td>Jul-05</td>\n",
              "      <td>13.00</td>\n",
              "      <td>14.00</td>\n",
              "      <td>11.25</td>\n",
              "      <td>12.46</td>\n",
              "      <td>05</td>\n",
              "      <td>-4.153846</td>\n",
              "      <td>24.444444</td>\n",
              "      <td>2005-07-01</td>\n",
              "    </tr>\n",
              "    <tr>\n",
              "      <th>1</th>\n",
              "      <td>Aug-05</td>\n",
              "      <td>12.58</td>\n",
              "      <td>14.88</td>\n",
              "      <td>12.55</td>\n",
              "      <td>13.42</td>\n",
              "      <td>05</td>\n",
              "      <td>6.677266</td>\n",
              "      <td>18.565737</td>\n",
              "      <td>2005-08-01</td>\n",
              "    </tr>\n",
              "    <tr>\n",
              "      <th>2</th>\n",
              "      <td>Sep-05</td>\n",
              "      <td>13.48</td>\n",
              "      <td>14.87</td>\n",
              "      <td>12.27</td>\n",
              "      <td>13.30</td>\n",
              "      <td>05</td>\n",
              "      <td>-1.335312</td>\n",
              "      <td>21.189894</td>\n",
              "      <td>2005-09-01</td>\n",
              "    </tr>\n",
              "    <tr>\n",
              "      <th>3</th>\n",
              "      <td>Oct-05</td>\n",
              "      <td>13.20</td>\n",
              "      <td>14.47</td>\n",
              "      <td>12.40</td>\n",
              "      <td>12.99</td>\n",
              "      <td>05</td>\n",
              "      <td>-1.590909</td>\n",
              "      <td>16.693548</td>\n",
              "      <td>2005-10-01</td>\n",
              "    </tr>\n",
              "    <tr>\n",
              "      <th>4</th>\n",
              "      <td>Nov-05</td>\n",
              "      <td>13.35</td>\n",
              "      <td>13.88</td>\n",
              "      <td>12.88</td>\n",
              "      <td>13.41</td>\n",
              "      <td>05</td>\n",
              "      <td>0.449438</td>\n",
              "      <td>7.763975</td>\n",
              "      <td>2005-11-01</td>\n",
              "    </tr>\n",
              "  </tbody>\n",
              "</table>\n",
              "</div>\n",
              "      <button class=\"colab-df-convert\" onclick=\"convertToInteractive('df-713de3be-3cb8-4e5f-835a-dc66aabd8198')\"\n",
              "              title=\"Convert this dataframe to an interactive table.\"\n",
              "              style=\"display:none;\">\n",
              "        \n",
              "  <svg xmlns=\"http://www.w3.org/2000/svg\" height=\"24px\"viewBox=\"0 0 24 24\"\n",
              "       width=\"24px\">\n",
              "    <path d=\"M0 0h24v24H0V0z\" fill=\"none\"/>\n",
              "    <path d=\"M18.56 5.44l.94 2.06.94-2.06 2.06-.94-2.06-.94-.94-2.06-.94 2.06-2.06.94zm-11 1L8.5 8.5l.94-2.06 2.06-.94-2.06-.94L8.5 2.5l-.94 2.06-2.06.94zm10 10l.94 2.06.94-2.06 2.06-.94-2.06-.94-.94-2.06-.94 2.06-2.06.94z\"/><path d=\"M17.41 7.96l-1.37-1.37c-.4-.4-.92-.59-1.43-.59-.52 0-1.04.2-1.43.59L10.3 9.45l-7.72 7.72c-.78.78-.78 2.05 0 2.83L4 21.41c.39.39.9.59 1.41.59.51 0 1.02-.2 1.41-.59l7.78-7.78 2.81-2.81c.8-.78.8-2.07 0-2.86zM5.41 20L4 18.59l7.72-7.72 1.47 1.35L5.41 20z\"/>\n",
              "  </svg>\n",
              "      </button>\n",
              "      \n",
              "  <style>\n",
              "    .colab-df-container {\n",
              "      display:flex;\n",
              "      flex-wrap:wrap;\n",
              "      gap: 12px;\n",
              "    }\n",
              "\n",
              "    .colab-df-convert {\n",
              "      background-color: #E8F0FE;\n",
              "      border: none;\n",
              "      border-radius: 50%;\n",
              "      cursor: pointer;\n",
              "      display: none;\n",
              "      fill: #1967D2;\n",
              "      height: 32px;\n",
              "      padding: 0 0 0 0;\n",
              "      width: 32px;\n",
              "    }\n",
              "\n",
              "    .colab-df-convert:hover {\n",
              "      background-color: #E2EBFA;\n",
              "      box-shadow: 0px 1px 2px rgba(60, 64, 67, 0.3), 0px 1px 3px 1px rgba(60, 64, 67, 0.15);\n",
              "      fill: #174EA6;\n",
              "    }\n",
              "\n",
              "    [theme=dark] .colab-df-convert {\n",
              "      background-color: #3B4455;\n",
              "      fill: #D2E3FC;\n",
              "    }\n",
              "\n",
              "    [theme=dark] .colab-df-convert:hover {\n",
              "      background-color: #434B5C;\n",
              "      box-shadow: 0px 1px 3px 1px rgba(0, 0, 0, 0.15);\n",
              "      filter: drop-shadow(0px 1px 2px rgba(0, 0, 0, 0.3));\n",
              "      fill: #FFFFFF;\n",
              "    }\n",
              "  </style>\n",
              "\n",
              "      <script>\n",
              "        const buttonEl =\n",
              "          document.querySelector('#df-713de3be-3cb8-4e5f-835a-dc66aabd8198 button.colab-df-convert');\n",
              "        buttonEl.style.display =\n",
              "          google.colab.kernel.accessAllowed ? 'block' : 'none';\n",
              "\n",
              "        async function convertToInteractive(key) {\n",
              "          const element = document.querySelector('#df-713de3be-3cb8-4e5f-835a-dc66aabd8198');\n",
              "          const dataTable =\n",
              "            await google.colab.kernel.invokeFunction('convertToInteractive',\n",
              "                                                     [key], {});\n",
              "          if (!dataTable) return;\n",
              "\n",
              "          const docLinkHtml = 'Like what you see? Visit the ' +\n",
              "            '<a target=\"_blank\" href=https://colab.research.google.com/notebooks/data_table.ipynb>data table notebook</a>'\n",
              "            + ' to learn more about interactive tables.';\n",
              "          element.innerHTML = '';\n",
              "          dataTable['output_type'] = 'display_data';\n",
              "          await google.colab.output.renderOutput(dataTable, element);\n",
              "          const docLink = document.createElement('div');\n",
              "          docLink.innerHTML = docLinkHtml;\n",
              "          element.appendChild(docLink);\n",
              "        }\n",
              "      </script>\n",
              "    </div>\n",
              "  </div>\n",
              "  "
            ]
          },
          "metadata": {},
          "execution_count": 528
        }
      ]
    },
    {
      "cell_type": "code",
      "source": [
        "# creating the column for the month\n",
        "df['month'] = df['Date'].apply(lambda x:x[:3])\n",
        "df.head()"
      ],
      "metadata": {
        "colab": {
          "base_uri": "https://localhost:8080/",
          "height": 204
        },
        "id": "ycgQvSEygGqv",
        "outputId": "875ba0a2-ef94-462e-be3a-3cb533c2d015"
      },
      "execution_count": 529,
      "outputs": [
        {
          "output_type": "execute_result",
          "data": {
            "text/plain": [
              "     Date   Open   High    Low  Close year  Onedaychange  \\\n",
              "0  Jul-05  13.00  14.00  11.25  12.46   05     -4.153846   \n",
              "1  Aug-05  12.58  14.88  12.55  13.42   05      6.677266   \n",
              "2  Sep-05  13.48  14.87  12.27  13.30   05     -1.335312   \n",
              "3  Oct-05  13.20  14.47  12.40  12.99   05     -1.590909   \n",
              "4  Nov-05  13.35  13.88  12.88  13.41   05      0.449438   \n",
              "\n",
              "   singledaychange_low_high Formatted_date month  \n",
              "0                 24.444444     2005-07-01   Jul  \n",
              "1                 18.565737     2005-08-01   Aug  \n",
              "2                 21.189894     2005-09-01   Sep  \n",
              "3                 16.693548     2005-10-01   Oct  \n",
              "4                  7.763975     2005-11-01   Nov  "
            ],
            "text/html": [
              "\n",
              "  <div id=\"df-46a1cca8-c2a5-47d0-ae54-d25d4880ee98\">\n",
              "    <div class=\"colab-df-container\">\n",
              "      <div>\n",
              "<style scoped>\n",
              "    .dataframe tbody tr th:only-of-type {\n",
              "        vertical-align: middle;\n",
              "    }\n",
              "\n",
              "    .dataframe tbody tr th {\n",
              "        vertical-align: top;\n",
              "    }\n",
              "\n",
              "    .dataframe thead th {\n",
              "        text-align: right;\n",
              "    }\n",
              "</style>\n",
              "<table border=\"1\" class=\"dataframe\">\n",
              "  <thead>\n",
              "    <tr style=\"text-align: right;\">\n",
              "      <th></th>\n",
              "      <th>Date</th>\n",
              "      <th>Open</th>\n",
              "      <th>High</th>\n",
              "      <th>Low</th>\n",
              "      <th>Close</th>\n",
              "      <th>year</th>\n",
              "      <th>Onedaychange</th>\n",
              "      <th>singledaychange_low_high</th>\n",
              "      <th>Formatted_date</th>\n",
              "      <th>month</th>\n",
              "    </tr>\n",
              "  </thead>\n",
              "  <tbody>\n",
              "    <tr>\n",
              "      <th>0</th>\n",
              "      <td>Jul-05</td>\n",
              "      <td>13.00</td>\n",
              "      <td>14.00</td>\n",
              "      <td>11.25</td>\n",
              "      <td>12.46</td>\n",
              "      <td>05</td>\n",
              "      <td>-4.153846</td>\n",
              "      <td>24.444444</td>\n",
              "      <td>2005-07-01</td>\n",
              "      <td>Jul</td>\n",
              "    </tr>\n",
              "    <tr>\n",
              "      <th>1</th>\n",
              "      <td>Aug-05</td>\n",
              "      <td>12.58</td>\n",
              "      <td>14.88</td>\n",
              "      <td>12.55</td>\n",
              "      <td>13.42</td>\n",
              "      <td>05</td>\n",
              "      <td>6.677266</td>\n",
              "      <td>18.565737</td>\n",
              "      <td>2005-08-01</td>\n",
              "      <td>Aug</td>\n",
              "    </tr>\n",
              "    <tr>\n",
              "      <th>2</th>\n",
              "      <td>Sep-05</td>\n",
              "      <td>13.48</td>\n",
              "      <td>14.87</td>\n",
              "      <td>12.27</td>\n",
              "      <td>13.30</td>\n",
              "      <td>05</td>\n",
              "      <td>-1.335312</td>\n",
              "      <td>21.189894</td>\n",
              "      <td>2005-09-01</td>\n",
              "      <td>Sep</td>\n",
              "    </tr>\n",
              "    <tr>\n",
              "      <th>3</th>\n",
              "      <td>Oct-05</td>\n",
              "      <td>13.20</td>\n",
              "      <td>14.47</td>\n",
              "      <td>12.40</td>\n",
              "      <td>12.99</td>\n",
              "      <td>05</td>\n",
              "      <td>-1.590909</td>\n",
              "      <td>16.693548</td>\n",
              "      <td>2005-10-01</td>\n",
              "      <td>Oct</td>\n",
              "    </tr>\n",
              "    <tr>\n",
              "      <th>4</th>\n",
              "      <td>Nov-05</td>\n",
              "      <td>13.35</td>\n",
              "      <td>13.88</td>\n",
              "      <td>12.88</td>\n",
              "      <td>13.41</td>\n",
              "      <td>05</td>\n",
              "      <td>0.449438</td>\n",
              "      <td>7.763975</td>\n",
              "      <td>2005-11-01</td>\n",
              "      <td>Nov</td>\n",
              "    </tr>\n",
              "  </tbody>\n",
              "</table>\n",
              "</div>\n",
              "      <button class=\"colab-df-convert\" onclick=\"convertToInteractive('df-46a1cca8-c2a5-47d0-ae54-d25d4880ee98')\"\n",
              "              title=\"Convert this dataframe to an interactive table.\"\n",
              "              style=\"display:none;\">\n",
              "        \n",
              "  <svg xmlns=\"http://www.w3.org/2000/svg\" height=\"24px\"viewBox=\"0 0 24 24\"\n",
              "       width=\"24px\">\n",
              "    <path d=\"M0 0h24v24H0V0z\" fill=\"none\"/>\n",
              "    <path d=\"M18.56 5.44l.94 2.06.94-2.06 2.06-.94-2.06-.94-.94-2.06-.94 2.06-2.06.94zm-11 1L8.5 8.5l.94-2.06 2.06-.94-2.06-.94L8.5 2.5l-.94 2.06-2.06.94zm10 10l.94 2.06.94-2.06 2.06-.94-2.06-.94-.94-2.06-.94 2.06-2.06.94z\"/><path d=\"M17.41 7.96l-1.37-1.37c-.4-.4-.92-.59-1.43-.59-.52 0-1.04.2-1.43.59L10.3 9.45l-7.72 7.72c-.78.78-.78 2.05 0 2.83L4 21.41c.39.39.9.59 1.41.59.51 0 1.02-.2 1.41-.59l7.78-7.78 2.81-2.81c.8-.78.8-2.07 0-2.86zM5.41 20L4 18.59l7.72-7.72 1.47 1.35L5.41 20z\"/>\n",
              "  </svg>\n",
              "      </button>\n",
              "      \n",
              "  <style>\n",
              "    .colab-df-container {\n",
              "      display:flex;\n",
              "      flex-wrap:wrap;\n",
              "      gap: 12px;\n",
              "    }\n",
              "\n",
              "    .colab-df-convert {\n",
              "      background-color: #E8F0FE;\n",
              "      border: none;\n",
              "      border-radius: 50%;\n",
              "      cursor: pointer;\n",
              "      display: none;\n",
              "      fill: #1967D2;\n",
              "      height: 32px;\n",
              "      padding: 0 0 0 0;\n",
              "      width: 32px;\n",
              "    }\n",
              "\n",
              "    .colab-df-convert:hover {\n",
              "      background-color: #E2EBFA;\n",
              "      box-shadow: 0px 1px 2px rgba(60, 64, 67, 0.3), 0px 1px 3px 1px rgba(60, 64, 67, 0.15);\n",
              "      fill: #174EA6;\n",
              "    }\n",
              "\n",
              "    [theme=dark] .colab-df-convert {\n",
              "      background-color: #3B4455;\n",
              "      fill: #D2E3FC;\n",
              "    }\n",
              "\n",
              "    [theme=dark] .colab-df-convert:hover {\n",
              "      background-color: #434B5C;\n",
              "      box-shadow: 0px 1px 3px 1px rgba(0, 0, 0, 0.15);\n",
              "      filter: drop-shadow(0px 1px 2px rgba(0, 0, 0, 0.3));\n",
              "      fill: #FFFFFF;\n",
              "    }\n",
              "  </style>\n",
              "\n",
              "      <script>\n",
              "        const buttonEl =\n",
              "          document.querySelector('#df-46a1cca8-c2a5-47d0-ae54-d25d4880ee98 button.colab-df-convert');\n",
              "        buttonEl.style.display =\n",
              "          google.colab.kernel.accessAllowed ? 'block' : 'none';\n",
              "\n",
              "        async function convertToInteractive(key) {\n",
              "          const element = document.querySelector('#df-46a1cca8-c2a5-47d0-ae54-d25d4880ee98');\n",
              "          const dataTable =\n",
              "            await google.colab.kernel.invokeFunction('convertToInteractive',\n",
              "                                                     [key], {});\n",
              "          if (!dataTable) return;\n",
              "\n",
              "          const docLinkHtml = 'Like what you see? Visit the ' +\n",
              "            '<a target=\"_blank\" href=https://colab.research.google.com/notebooks/data_table.ipynb>data table notebook</a>'\n",
              "            + ' to learn more about interactive tables.';\n",
              "          element.innerHTML = '';\n",
              "          dataTable['output_type'] = 'display_data';\n",
              "          await google.colab.output.renderOutput(dataTable, element);\n",
              "          const docLink = document.createElement('div');\n",
              "          docLink.innerHTML = docLinkHtml;\n",
              "          element.appendChild(docLink);\n",
              "        }\n",
              "      </script>\n",
              "    </div>\n",
              "  </div>\n",
              "  "
            ]
          },
          "metadata": {},
          "execution_count": 529
        }
      ]
    },
    {
      "cell_type": "code",
      "source": [
        "# Creating the column for result to check whether the day stock price ended with positive, negative or unchanged\n",
        "df['Result'] = np.where(df.Onedaychange > 0,'positive',(np.where(df.Onedaychange < 0,'negative','unchanged')))\n",
        "df.head()"
      ],
      "metadata": {
        "id": "sri6i2IppBan",
        "colab": {
          "base_uri": "https://localhost:8080/",
          "height": 204
        },
        "outputId": "13f5d916-374e-4f77-c4fd-dfac2b0c259b"
      },
      "execution_count": 530,
      "outputs": [
        {
          "output_type": "execute_result",
          "data": {
            "text/plain": [
              "     Date   Open   High    Low  Close year  Onedaychange  \\\n",
              "0  Jul-05  13.00  14.00  11.25  12.46   05     -4.153846   \n",
              "1  Aug-05  12.58  14.88  12.55  13.42   05      6.677266   \n",
              "2  Sep-05  13.48  14.87  12.27  13.30   05     -1.335312   \n",
              "3  Oct-05  13.20  14.47  12.40  12.99   05     -1.590909   \n",
              "4  Nov-05  13.35  13.88  12.88  13.41   05      0.449438   \n",
              "\n",
              "   singledaychange_low_high Formatted_date month    Result  \n",
              "0                 24.444444     2005-07-01   Jul  negative  \n",
              "1                 18.565737     2005-08-01   Aug  positive  \n",
              "2                 21.189894     2005-09-01   Sep  negative  \n",
              "3                 16.693548     2005-10-01   Oct  negative  \n",
              "4                  7.763975     2005-11-01   Nov  positive  "
            ],
            "text/html": [
              "\n",
              "  <div id=\"df-91996e32-edf4-4952-a9f4-682b7132deba\">\n",
              "    <div class=\"colab-df-container\">\n",
              "      <div>\n",
              "<style scoped>\n",
              "    .dataframe tbody tr th:only-of-type {\n",
              "        vertical-align: middle;\n",
              "    }\n",
              "\n",
              "    .dataframe tbody tr th {\n",
              "        vertical-align: top;\n",
              "    }\n",
              "\n",
              "    .dataframe thead th {\n",
              "        text-align: right;\n",
              "    }\n",
              "</style>\n",
              "<table border=\"1\" class=\"dataframe\">\n",
              "  <thead>\n",
              "    <tr style=\"text-align: right;\">\n",
              "      <th></th>\n",
              "      <th>Date</th>\n",
              "      <th>Open</th>\n",
              "      <th>High</th>\n",
              "      <th>Low</th>\n",
              "      <th>Close</th>\n",
              "      <th>year</th>\n",
              "      <th>Onedaychange</th>\n",
              "      <th>singledaychange_low_high</th>\n",
              "      <th>Formatted_date</th>\n",
              "      <th>month</th>\n",
              "      <th>Result</th>\n",
              "    </tr>\n",
              "  </thead>\n",
              "  <tbody>\n",
              "    <tr>\n",
              "      <th>0</th>\n",
              "      <td>Jul-05</td>\n",
              "      <td>13.00</td>\n",
              "      <td>14.00</td>\n",
              "      <td>11.25</td>\n",
              "      <td>12.46</td>\n",
              "      <td>05</td>\n",
              "      <td>-4.153846</td>\n",
              "      <td>24.444444</td>\n",
              "      <td>2005-07-01</td>\n",
              "      <td>Jul</td>\n",
              "      <td>negative</td>\n",
              "    </tr>\n",
              "    <tr>\n",
              "      <th>1</th>\n",
              "      <td>Aug-05</td>\n",
              "      <td>12.58</td>\n",
              "      <td>14.88</td>\n",
              "      <td>12.55</td>\n",
              "      <td>13.42</td>\n",
              "      <td>05</td>\n",
              "      <td>6.677266</td>\n",
              "      <td>18.565737</td>\n",
              "      <td>2005-08-01</td>\n",
              "      <td>Aug</td>\n",
              "      <td>positive</td>\n",
              "    </tr>\n",
              "    <tr>\n",
              "      <th>2</th>\n",
              "      <td>Sep-05</td>\n",
              "      <td>13.48</td>\n",
              "      <td>14.87</td>\n",
              "      <td>12.27</td>\n",
              "      <td>13.30</td>\n",
              "      <td>05</td>\n",
              "      <td>-1.335312</td>\n",
              "      <td>21.189894</td>\n",
              "      <td>2005-09-01</td>\n",
              "      <td>Sep</td>\n",
              "      <td>negative</td>\n",
              "    </tr>\n",
              "    <tr>\n",
              "      <th>3</th>\n",
              "      <td>Oct-05</td>\n",
              "      <td>13.20</td>\n",
              "      <td>14.47</td>\n",
              "      <td>12.40</td>\n",
              "      <td>12.99</td>\n",
              "      <td>05</td>\n",
              "      <td>-1.590909</td>\n",
              "      <td>16.693548</td>\n",
              "      <td>2005-10-01</td>\n",
              "      <td>Oct</td>\n",
              "      <td>negative</td>\n",
              "    </tr>\n",
              "    <tr>\n",
              "      <th>4</th>\n",
              "      <td>Nov-05</td>\n",
              "      <td>13.35</td>\n",
              "      <td>13.88</td>\n",
              "      <td>12.88</td>\n",
              "      <td>13.41</td>\n",
              "      <td>05</td>\n",
              "      <td>0.449438</td>\n",
              "      <td>7.763975</td>\n",
              "      <td>2005-11-01</td>\n",
              "      <td>Nov</td>\n",
              "      <td>positive</td>\n",
              "    </tr>\n",
              "  </tbody>\n",
              "</table>\n",
              "</div>\n",
              "      <button class=\"colab-df-convert\" onclick=\"convertToInteractive('df-91996e32-edf4-4952-a9f4-682b7132deba')\"\n",
              "              title=\"Convert this dataframe to an interactive table.\"\n",
              "              style=\"display:none;\">\n",
              "        \n",
              "  <svg xmlns=\"http://www.w3.org/2000/svg\" height=\"24px\"viewBox=\"0 0 24 24\"\n",
              "       width=\"24px\">\n",
              "    <path d=\"M0 0h24v24H0V0z\" fill=\"none\"/>\n",
              "    <path d=\"M18.56 5.44l.94 2.06.94-2.06 2.06-.94-2.06-.94-.94-2.06-.94 2.06-2.06.94zm-11 1L8.5 8.5l.94-2.06 2.06-.94-2.06-.94L8.5 2.5l-.94 2.06-2.06.94zm10 10l.94 2.06.94-2.06 2.06-.94-2.06-.94-.94-2.06-.94 2.06-2.06.94z\"/><path d=\"M17.41 7.96l-1.37-1.37c-.4-.4-.92-.59-1.43-.59-.52 0-1.04.2-1.43.59L10.3 9.45l-7.72 7.72c-.78.78-.78 2.05 0 2.83L4 21.41c.39.39.9.59 1.41.59.51 0 1.02-.2 1.41-.59l7.78-7.78 2.81-2.81c.8-.78.8-2.07 0-2.86zM5.41 20L4 18.59l7.72-7.72 1.47 1.35L5.41 20z\"/>\n",
              "  </svg>\n",
              "      </button>\n",
              "      \n",
              "  <style>\n",
              "    .colab-df-container {\n",
              "      display:flex;\n",
              "      flex-wrap:wrap;\n",
              "      gap: 12px;\n",
              "    }\n",
              "\n",
              "    .colab-df-convert {\n",
              "      background-color: #E8F0FE;\n",
              "      border: none;\n",
              "      border-radius: 50%;\n",
              "      cursor: pointer;\n",
              "      display: none;\n",
              "      fill: #1967D2;\n",
              "      height: 32px;\n",
              "      padding: 0 0 0 0;\n",
              "      width: 32px;\n",
              "    }\n",
              "\n",
              "    .colab-df-convert:hover {\n",
              "      background-color: #E2EBFA;\n",
              "      box-shadow: 0px 1px 2px rgba(60, 64, 67, 0.3), 0px 1px 3px 1px rgba(60, 64, 67, 0.15);\n",
              "      fill: #174EA6;\n",
              "    }\n",
              "\n",
              "    [theme=dark] .colab-df-convert {\n",
              "      background-color: #3B4455;\n",
              "      fill: #D2E3FC;\n",
              "    }\n",
              "\n",
              "    [theme=dark] .colab-df-convert:hover {\n",
              "      background-color: #434B5C;\n",
              "      box-shadow: 0px 1px 3px 1px rgba(0, 0, 0, 0.15);\n",
              "      filter: drop-shadow(0px 1px 2px rgba(0, 0, 0, 0.3));\n",
              "      fill: #FFFFFF;\n",
              "    }\n",
              "  </style>\n",
              "\n",
              "      <script>\n",
              "        const buttonEl =\n",
              "          document.querySelector('#df-91996e32-edf4-4952-a9f4-682b7132deba button.colab-df-convert');\n",
              "        buttonEl.style.display =\n",
              "          google.colab.kernel.accessAllowed ? 'block' : 'none';\n",
              "\n",
              "        async function convertToInteractive(key) {\n",
              "          const element = document.querySelector('#df-91996e32-edf4-4952-a9f4-682b7132deba');\n",
              "          const dataTable =\n",
              "            await google.colab.kernel.invokeFunction('convertToInteractive',\n",
              "                                                     [key], {});\n",
              "          if (!dataTable) return;\n",
              "\n",
              "          const docLinkHtml = 'Like what you see? Visit the ' +\n",
              "            '<a target=\"_blank\" href=https://colab.research.google.com/notebooks/data_table.ipynb>data table notebook</a>'\n",
              "            + ' to learn more about interactive tables.';\n",
              "          element.innerHTML = '';\n",
              "          dataTable['output_type'] = 'display_data';\n",
              "          await google.colab.output.renderOutput(dataTable, element);\n",
              "          const docLink = document.createElement('div');\n",
              "          docLink.innerHTML = docLinkHtml;\n",
              "          element.appendChild(docLink);\n",
              "        }\n",
              "      </script>\n",
              "    </div>\n",
              "  </div>\n",
              "  "
            ]
          },
          "metadata": {},
          "execution_count": 530
        }
      ]
    },
    {
      "cell_type": "code",
      "source": [
        "# creating the column new column to check whether day opeing is high or low compared with the last day closing \n",
        "\n",
        "# Below we are copy the the close data and shifting to next day\n",
        "shifted = False\n",
        "df1 = df[['Close']].copy()\n",
        "if not shifted:\n",
        "  df1[0:] = df1[0:].shift(1)\n",
        "  df1.loc[0] = [13]\n",
        "  shifted = True\n",
        "df1.head()\n",
        "\n",
        "#After creating the shifted data column we are separating with opening price of the column\n",
        "df['daily_opening_change'] = (df['Open'] - df1['Close'])"
      ],
      "metadata": {
        "id": "9bFVb9yQCmhp"
      },
      "execution_count": 531,
      "outputs": []
    },
    {
      "cell_type": "code",
      "source": [
        "# getting the new column by checking the \n",
        "df['daily_opening'] = np.where(df.daily_opening_change > 0,'Gap_up',(np.where(df.daily_opening_change < 0,'Gap_Down','unchanged')))\n",
        "df.head()"
      ],
      "metadata": {
        "colab": {
          "base_uri": "https://localhost:8080/",
          "height": 204
        },
        "id": "QSLjZGTHYH3A",
        "outputId": "a8cd5794-c3ba-47ce-e6b8-9a9782ec8807"
      },
      "execution_count": 532,
      "outputs": [
        {
          "output_type": "execute_result",
          "data": {
            "text/plain": [
              "     Date   Open   High    Low  Close year  Onedaychange  \\\n",
              "0  Jul-05  13.00  14.00  11.25  12.46   05     -4.153846   \n",
              "1  Aug-05  12.58  14.88  12.55  13.42   05      6.677266   \n",
              "2  Sep-05  13.48  14.87  12.27  13.30   05     -1.335312   \n",
              "3  Oct-05  13.20  14.47  12.40  12.99   05     -1.590909   \n",
              "4  Nov-05  13.35  13.88  12.88  13.41   05      0.449438   \n",
              "\n",
              "   singledaychange_low_high Formatted_date month    Result  \\\n",
              "0                 24.444444     2005-07-01   Jul  negative   \n",
              "1                 18.565737     2005-08-01   Aug  positive   \n",
              "2                 21.189894     2005-09-01   Sep  negative   \n",
              "3                 16.693548     2005-10-01   Oct  negative   \n",
              "4                  7.763975     2005-11-01   Nov  positive   \n",
              "\n",
              "   daily_opening_change daily_opening  \n",
              "0                  0.00     unchanged  \n",
              "1                  0.12        Gap_up  \n",
              "2                  0.06        Gap_up  \n",
              "3                 -0.10      Gap_Down  \n",
              "4                  0.36        Gap_up  "
            ],
            "text/html": [
              "\n",
              "  <div id=\"df-4faa38e8-4082-4a5b-81e0-662ee568c92b\">\n",
              "    <div class=\"colab-df-container\">\n",
              "      <div>\n",
              "<style scoped>\n",
              "    .dataframe tbody tr th:only-of-type {\n",
              "        vertical-align: middle;\n",
              "    }\n",
              "\n",
              "    .dataframe tbody tr th {\n",
              "        vertical-align: top;\n",
              "    }\n",
              "\n",
              "    .dataframe thead th {\n",
              "        text-align: right;\n",
              "    }\n",
              "</style>\n",
              "<table border=\"1\" class=\"dataframe\">\n",
              "  <thead>\n",
              "    <tr style=\"text-align: right;\">\n",
              "      <th></th>\n",
              "      <th>Date</th>\n",
              "      <th>Open</th>\n",
              "      <th>High</th>\n",
              "      <th>Low</th>\n",
              "      <th>Close</th>\n",
              "      <th>year</th>\n",
              "      <th>Onedaychange</th>\n",
              "      <th>singledaychange_low_high</th>\n",
              "      <th>Formatted_date</th>\n",
              "      <th>month</th>\n",
              "      <th>Result</th>\n",
              "      <th>daily_opening_change</th>\n",
              "      <th>daily_opening</th>\n",
              "    </tr>\n",
              "  </thead>\n",
              "  <tbody>\n",
              "    <tr>\n",
              "      <th>0</th>\n",
              "      <td>Jul-05</td>\n",
              "      <td>13.00</td>\n",
              "      <td>14.00</td>\n",
              "      <td>11.25</td>\n",
              "      <td>12.46</td>\n",
              "      <td>05</td>\n",
              "      <td>-4.153846</td>\n",
              "      <td>24.444444</td>\n",
              "      <td>2005-07-01</td>\n",
              "      <td>Jul</td>\n",
              "      <td>negative</td>\n",
              "      <td>0.00</td>\n",
              "      <td>unchanged</td>\n",
              "    </tr>\n",
              "    <tr>\n",
              "      <th>1</th>\n",
              "      <td>Aug-05</td>\n",
              "      <td>12.58</td>\n",
              "      <td>14.88</td>\n",
              "      <td>12.55</td>\n",
              "      <td>13.42</td>\n",
              "      <td>05</td>\n",
              "      <td>6.677266</td>\n",
              "      <td>18.565737</td>\n",
              "      <td>2005-08-01</td>\n",
              "      <td>Aug</td>\n",
              "      <td>positive</td>\n",
              "      <td>0.12</td>\n",
              "      <td>Gap_up</td>\n",
              "    </tr>\n",
              "    <tr>\n",
              "      <th>2</th>\n",
              "      <td>Sep-05</td>\n",
              "      <td>13.48</td>\n",
              "      <td>14.87</td>\n",
              "      <td>12.27</td>\n",
              "      <td>13.30</td>\n",
              "      <td>05</td>\n",
              "      <td>-1.335312</td>\n",
              "      <td>21.189894</td>\n",
              "      <td>2005-09-01</td>\n",
              "      <td>Sep</td>\n",
              "      <td>negative</td>\n",
              "      <td>0.06</td>\n",
              "      <td>Gap_up</td>\n",
              "    </tr>\n",
              "    <tr>\n",
              "      <th>3</th>\n",
              "      <td>Oct-05</td>\n",
              "      <td>13.20</td>\n",
              "      <td>14.47</td>\n",
              "      <td>12.40</td>\n",
              "      <td>12.99</td>\n",
              "      <td>05</td>\n",
              "      <td>-1.590909</td>\n",
              "      <td>16.693548</td>\n",
              "      <td>2005-10-01</td>\n",
              "      <td>Oct</td>\n",
              "      <td>negative</td>\n",
              "      <td>-0.10</td>\n",
              "      <td>Gap_Down</td>\n",
              "    </tr>\n",
              "    <tr>\n",
              "      <th>4</th>\n",
              "      <td>Nov-05</td>\n",
              "      <td>13.35</td>\n",
              "      <td>13.88</td>\n",
              "      <td>12.88</td>\n",
              "      <td>13.41</td>\n",
              "      <td>05</td>\n",
              "      <td>0.449438</td>\n",
              "      <td>7.763975</td>\n",
              "      <td>2005-11-01</td>\n",
              "      <td>Nov</td>\n",
              "      <td>positive</td>\n",
              "      <td>0.36</td>\n",
              "      <td>Gap_up</td>\n",
              "    </tr>\n",
              "  </tbody>\n",
              "</table>\n",
              "</div>\n",
              "      <button class=\"colab-df-convert\" onclick=\"convertToInteractive('df-4faa38e8-4082-4a5b-81e0-662ee568c92b')\"\n",
              "              title=\"Convert this dataframe to an interactive table.\"\n",
              "              style=\"display:none;\">\n",
              "        \n",
              "  <svg xmlns=\"http://www.w3.org/2000/svg\" height=\"24px\"viewBox=\"0 0 24 24\"\n",
              "       width=\"24px\">\n",
              "    <path d=\"M0 0h24v24H0V0z\" fill=\"none\"/>\n",
              "    <path d=\"M18.56 5.44l.94 2.06.94-2.06 2.06-.94-2.06-.94-.94-2.06-.94 2.06-2.06.94zm-11 1L8.5 8.5l.94-2.06 2.06-.94-2.06-.94L8.5 2.5l-.94 2.06-2.06.94zm10 10l.94 2.06.94-2.06 2.06-.94-2.06-.94-.94-2.06-.94 2.06-2.06.94z\"/><path d=\"M17.41 7.96l-1.37-1.37c-.4-.4-.92-.59-1.43-.59-.52 0-1.04.2-1.43.59L10.3 9.45l-7.72 7.72c-.78.78-.78 2.05 0 2.83L4 21.41c.39.39.9.59 1.41.59.51 0 1.02-.2 1.41-.59l7.78-7.78 2.81-2.81c.8-.78.8-2.07 0-2.86zM5.41 20L4 18.59l7.72-7.72 1.47 1.35L5.41 20z\"/>\n",
              "  </svg>\n",
              "      </button>\n",
              "      \n",
              "  <style>\n",
              "    .colab-df-container {\n",
              "      display:flex;\n",
              "      flex-wrap:wrap;\n",
              "      gap: 12px;\n",
              "    }\n",
              "\n",
              "    .colab-df-convert {\n",
              "      background-color: #E8F0FE;\n",
              "      border: none;\n",
              "      border-radius: 50%;\n",
              "      cursor: pointer;\n",
              "      display: none;\n",
              "      fill: #1967D2;\n",
              "      height: 32px;\n",
              "      padding: 0 0 0 0;\n",
              "      width: 32px;\n",
              "    }\n",
              "\n",
              "    .colab-df-convert:hover {\n",
              "      background-color: #E2EBFA;\n",
              "      box-shadow: 0px 1px 2px rgba(60, 64, 67, 0.3), 0px 1px 3px 1px rgba(60, 64, 67, 0.15);\n",
              "      fill: #174EA6;\n",
              "    }\n",
              "\n",
              "    [theme=dark] .colab-df-convert {\n",
              "      background-color: #3B4455;\n",
              "      fill: #D2E3FC;\n",
              "    }\n",
              "\n",
              "    [theme=dark] .colab-df-convert:hover {\n",
              "      background-color: #434B5C;\n",
              "      box-shadow: 0px 1px 3px 1px rgba(0, 0, 0, 0.15);\n",
              "      filter: drop-shadow(0px 1px 2px rgba(0, 0, 0, 0.3));\n",
              "      fill: #FFFFFF;\n",
              "    }\n",
              "  </style>\n",
              "\n",
              "      <script>\n",
              "        const buttonEl =\n",
              "          document.querySelector('#df-4faa38e8-4082-4a5b-81e0-662ee568c92b button.colab-df-convert');\n",
              "        buttonEl.style.display =\n",
              "          google.colab.kernel.accessAllowed ? 'block' : 'none';\n",
              "\n",
              "        async function convertToInteractive(key) {\n",
              "          const element = document.querySelector('#df-4faa38e8-4082-4a5b-81e0-662ee568c92b');\n",
              "          const dataTable =\n",
              "            await google.colab.kernel.invokeFunction('convertToInteractive',\n",
              "                                                     [key], {});\n",
              "          if (!dataTable) return;\n",
              "\n",
              "          const docLinkHtml = 'Like what you see? Visit the ' +\n",
              "            '<a target=\"_blank\" href=https://colab.research.google.com/notebooks/data_table.ipynb>data table notebook</a>'\n",
              "            + ' to learn more about interactive tables.';\n",
              "          element.innerHTML = '';\n",
              "          dataTable['output_type'] = 'display_data';\n",
              "          await google.colab.output.renderOutput(dataTable, element);\n",
              "          const docLink = document.createElement('div');\n",
              "          docLink.innerHTML = docLinkHtml;\n",
              "          element.appendChild(docLink);\n",
              "        }\n",
              "      </script>\n",
              "    </div>\n",
              "  </div>\n",
              "  "
            ]
          },
          "metadata": {},
          "execution_count": 532
        }
      ]
    },
    {
      "cell_type": "code",
      "source": [
        "df.Result.value_counts()"
      ],
      "metadata": {
        "colab": {
          "base_uri": "https://localhost:8080/"
        },
        "id": "5Lf0u6fnkTcE",
        "outputId": "04003eb4-078e-46a1-a8cf-f8929b7f61d3"
      },
      "execution_count": 533,
      "outputs": [
        {
          "output_type": "execute_result",
          "data": {
            "text/plain": [
              "positive    100\n",
              "negative     85\n",
              "Name: Result, dtype: int64"
            ]
          },
          "metadata": {},
          "execution_count": 533
        }
      ]
    },
    {
      "cell_type": "code",
      "source": [
        "df.daily_opening.value_counts()"
      ],
      "metadata": {
        "colab": {
          "base_uri": "https://localhost:8080/"
        },
        "id": "2Lqq8je-iE-H",
        "outputId": "8878d261-b3a0-489d-9ce4-4068dd1a07d3"
      },
      "execution_count": 534,
      "outputs": [
        {
          "output_type": "execute_result",
          "data": {
            "text/plain": [
              "Gap_up       128\n",
              "Gap_Down      48\n",
              "unchanged      9\n",
              "Name: daily_opening, dtype: int64"
            ]
          },
          "metadata": {},
          "execution_count": 534
        }
      ]
    },
    {
      "cell_type": "markdown",
      "source": [],
      "metadata": {
        "id": "2dggttZixHP7"
      }
    },
    {
      "cell_type": "markdown",
      "source": [
        "### What all manipulations have you done and insights you found?"
      ],
      "metadata": {
        "id": "MSa1f5Uengrz"
      }
    },
    {
      "cell_type": "markdown",
      "source": [
        "We have manipulated the date to check the below points:\n",
        "- Precentage of movement in a day with repesect to opening price and closing price\n",
        "- Precentage of movement in a day with repesect to low and high price\n",
        "- Result of the date whether it is positive or negative\n",
        "- checked whether the opeing price is up, down or unchanged with repsect to previous date closing price\n",
        "\n",
        "\n",
        "Insights about the data:\n",
        "- Lowest price of the stock is 9.68 and the hightest price of the stock is 367.9\n",
        "- After 2018 there is a massive decline in the stock price\n",
        "- Total 100 months add the positive upward movement of price and 85 months downward movement of price by comparing the previous month price\n",
        "- In a month it at around 128 gap up movement and 48 had gap down movement and 9 unchanged movement."
      ],
      "metadata": {
        "id": "LbyXE7I1olp8"
      }
    },
    {
      "cell_type": "markdown",
      "source": [
        "## ***4. Data Vizualization, Storytelling & Experimenting with charts : Understand the relationships between variables***"
      ],
      "metadata": {
        "id": "GF8Ens_Soomf"
      }
    },
    {
      "cell_type": "markdown",
      "source": [
        "#### Chart - 1"
      ],
      "metadata": {
        "id": "EM7whBJCYoAo"
      }
    },
    {
      "cell_type": "code",
      "source": [
        "# Chart - 3 visualization code\n",
        "plt.subplot(2,1,1)\n",
        "sns.distplot(df['Open'],color ='y')\n",
        "plt.subplot(2,1,2)\n",
        "sns.distplot(df['Low'],color = 'y')\n",
        "plt.show()"
      ],
      "metadata": {
        "id": "t6GMdE67YoAp",
        "colab": {
          "base_uri": "https://localhost:8080/",
          "height": 279
        },
        "outputId": "85b03b0d-d732-426c-9a73-f29cd038e5a6"
      },
      "execution_count": 535,
      "outputs": [
        {
          "output_type": "display_data",
          "data": {
            "text/plain": [
              "<Figure size 432x288 with 2 Axes>"
            ],
            "image/png": "[encoded data removed]"
          },
          "metadata": {
            "needs_background": "light"
          }
        }
      ]
    },
    {
      "cell_type": "markdown",
      "source": [
        "##### 1. Why did you pick the specific chart?"
      ],
      "metadata": {
        "id": "fge-S5ZAYoAp"
      }
    },
    {
      "cell_type": "markdown",
      "source": [
        "To check the distribution price "
      ],
      "metadata": {
        "id": "5dBItgRVYoAp"
      }
    },
    {
      "cell_type": "markdown",
      "source": [
        "##### 2. What is/are the insight(s) found from the chart?"
      ],
      "metadata": {
        "id": "85gYPyotYoAp"
      }
    },
    {
      "cell_type": "markdown",
      "source": [
        "We can see the data is highly skewed to the right, so we need to do transformation to the make the data normal distribution."
      ],
      "metadata": {
        "id": "4jstXR6OYoAp"
      }
    },
    {
      "cell_type": "markdown",
      "source": [
        "##### 3. Will the gained insights help creating a positive business impact? \n",
        "Are there any insights that lead to negative growth? Justify with specific reason."
      ],
      "metadata": {
        "id": "RoGjAbkUYoAp"
      }
    },
    {
      "cell_type": "markdown",
      "source": [
        "There is no insight for the business, as we are checking the stock price."
      ],
      "metadata": {
        "id": "zfJ8IqMcYoAp"
      }
    },
    {
      "cell_type": "markdown",
      "source": [
        "#### Chart - 2"
      ],
      "metadata": {
        "id": "4Of9eVA-YrdM"
      }
    },
    {
      "cell_type": "code",
      "source": [
        "# Chart - 4 visualization code\n",
        "plt.figure(figsize=(14, 14))\n",
        "plt.subplot(4,2,1)\n",
        "sns.boxplot(y=df['Close'])\n",
        "plt.subplot(4,2,2)\n",
        "sns.boxplot(y=df['Open'])\n",
        "plt.subplot(4,2,3)\n",
        "sns.boxplot(y=df['High'])\n",
        "plt.subplot(4,2,4)\n",
        "sns.boxplot(y=df['Low'])\n",
        "plt.show()"
      ],
      "metadata": {
        "id": "irlUoxc8YrdO",
        "colab": {
          "base_uri": "https://localhost:8080/",
          "height": 398
        },
        "outputId": "d7c50938-c612-447f-b1f9-e2582eed1535"
      },
      "execution_count": 536,
      "outputs": [
        {
          "output_type": "display_data",
          "data": {
            "text/plain": [
              "<Figure size 1008x1008 with 4 Axes>"
            ],
            "image/png": "[encoded data removed]"
          },
          "metadata": {
            "needs_background": "light"
          }
        }
      ]
    },
    {
      "cell_type": "markdown",
      "source": [
        "##### 1. Why did you pick the specific chart?"
      ],
      "metadata": {
        "id": "iky9q4vBYrdO"
      }
    },
    {
      "cell_type": "markdown",
      "source": [
        "To check the distribution price in percentile."
      ],
      "metadata": {
        "id": "aJRCwT6DYrdO"
      }
    },
    {
      "cell_type": "markdown",
      "source": [
        "##### 2. What is/are the insight(s) found from the chart?"
      ],
      "metadata": {
        "id": "F6T5p64dYrdO"
      }
    },
    {
      "cell_type": "markdown",
      "source": [
        "all the price distribution are similar to one another, so the distribution is highly correlated to one other."
      ],
      "metadata": {
        "id": "Xx8WAJvtYrdO"
      }
    },
    {
      "cell_type": "markdown",
      "source": [
        "##### 3. Will the gained insights help creating a positive business impact? \n",
        "Are there any insights that lead to negative growth? Justify with specific reason."
      ],
      "metadata": {
        "id": "y-Ehk30pYrdP"
      }
    },
    {
      "cell_type": "markdown",
      "source": [
        "There is no insight for the business, as we are checking the stock price."
      ],
      "metadata": {
        "id": "jLNxxz7MYrdP"
      }
    },
    {
      "cell_type": "markdown",
      "source": [
        "#### Chart - 3"
      ],
      "metadata": {
        "id": "PIIx-8_IphqN"
      }
    },
    {
      "cell_type": "code",
      "source": [
        "# Chart - 7 visualization code\n",
        "plt.rcParams[\"figure.figsize\"] = (10,10)\n",
        "\n",
        "sns.lineplot(data=df,x='Formatted_date',y='Onedaychange')\n"
      ],
      "metadata": {
        "id": "lqAIGUfyphqO",
        "colab": {
          "base_uri": "https://localhost:8080/",
          "height": 623
        },
        "outputId": "ee11a011-a619-409f-e37e-e83a0480e7a2"
      },
      "execution_count": 537,
      "outputs": [
        {
          "output_type": "execute_result",
          "data": {
            "text/plain": [
              "<matplotlib.axes._subplots.AxesSubplot at 0x7eff6f2b3310>"
            ]
          },
          "metadata": {},
          "execution_count": 537
        },
        {
          "output_type": "display_data",
          "data": {
            "text/plain": [
              "<Figure size 720x720 with 1 Axes>"
            ],
            "image/png": "[encoded data removed]"
          },
          "metadata": {
            "needs_background": "light"
          }
        }
      ]
    },
    {
      "cell_type": "code",
      "source": [
        "df.tail(20)"
      ],
      "metadata": {
        "colab": {
          "base_uri": "https://localhost:8080/",
          "height": 669
        },
        "id": "DVlZX6mFDP0w",
        "outputId": "0f55a2ba-405b-42dc-f334-4533fd7520aa"
      },
      "execution_count": 538,
      "outputs": [
        {
          "output_type": "execute_result",
          "data": {
            "text/plain": [
              "       Date    Open    High     Low   Close year  Onedaychange  \\\n",
              "165  Apr-19  277.00  285.90  165.30  168.00   19    -39.350181   \n",
              "166  May-19  163.30  178.05  133.05  147.95   19     -9.399878   \n",
              "167  Jun-19  147.95  153.80   98.75  108.70   19    -26.529233   \n",
              "168  Jul-19  109.60  110.60   81.75   91.30   19    -16.697080   \n",
              "169  Aug-19   89.20   92.40   53.15   59.50   19    -33.295964   \n",
              "170  Sep-19   59.50   72.55   40.95   41.45   19    -30.336134   \n",
              "171  Oct-19   42.00   76.65   29.05   70.45   19     67.738095   \n",
              "172  Nov-19   71.00   75.35   59.95   68.30   19     -3.802817   \n",
              "173  Dec-19   70.00   70.50   40.70   46.95   19    -32.928571   \n",
              "174  Jan-20   46.90   48.50   36.55   39.20   20    -16.417910   \n",
              "175  Feb-20   39.10   40.70   33.60   34.55   20    -11.636829   \n",
              "176  Mar-20   35.20   87.95    5.55   22.45   20    -36.221591   \n",
              "177  Apr-20   22.30   30.45   20.30   27.95   20     25.336323   \n",
              "178  May-20   27.80   31.60   25.20   26.85   20     -3.417266   \n",
              "179  Jun-20   27.75   31.95   25.55   25.60   20     -7.747748   \n",
              "180  Jul-20   25.60   28.30   11.10   11.95   20    -53.320312   \n",
              "181  Aug-20   12.00   17.16   11.85   14.37   20     19.750000   \n",
              "182  Sep-20   14.30   15.34   12.75   13.15   20     -8.041958   \n",
              "183  Oct-20   13.30   14.01   12.11   12.42   20     -6.616541   \n",
              "184  Nov-20   12.41   14.90   12.21   14.67   20     18.211120   \n",
              "\n",
              "     singledaychange_low_high Formatted_date month    Result  \\\n",
              "165                 72.958258     2019-04-01   Apr  negative   \n",
              "166                 33.821871     2019-05-01   May  negative   \n",
              "167                 55.746835     2019-06-01   Jun  negative   \n",
              "168                 35.290520     2019-07-01   Jul  negative   \n",
              "169                 73.847601     2019-08-01   Aug  negative   \n",
              "170                 77.167277     2019-09-01   Sep  negative   \n",
              "171                163.855422     2019-10-01   Oct  positive   \n",
              "172                 25.688073     2019-11-01   Nov  negative   \n",
              "173                 73.218673     2019-12-01   Dec  negative   \n",
              "174                 32.694938     2020-01-01   Jan  negative   \n",
              "175                 21.130952     2020-02-01   Feb  negative   \n",
              "176               1484.684685     2020-03-01   Mar  negative   \n",
              "177                 50.000000     2020-04-01   Apr  positive   \n",
              "178                 25.396825     2020-05-01   May  negative   \n",
              "179                 25.048924     2020-06-01   Jun  negative   \n",
              "180                154.954955     2020-07-01   Jul  negative   \n",
              "181                 44.810127     2020-08-01   Aug  positive   \n",
              "182                 20.313725     2020-09-01   Sep  negative   \n",
              "183                 15.689513     2020-10-01   Oct  negative   \n",
              "184                 22.031122     2020-11-01   Nov  positive   \n",
              "\n",
              "     daily_opening_change daily_opening  \n",
              "165                  1.95        Gap_up  \n",
              "166                 -4.70      Gap_Down  \n",
              "167                  0.00     unchanged  \n",
              "168                  0.90        Gap_up  \n",
              "169                 -2.10      Gap_Down  \n",
              "170                  0.00     unchanged  \n",
              "171                  0.55        Gap_up  \n",
              "172                  0.55        Gap_up  \n",
              "173                  1.70        Gap_up  \n",
              "174                 -0.05      Gap_Down  \n",
              "175                 -0.10      Gap_Down  \n",
              "176                  0.65        Gap_up  \n",
              "177                 -0.15      Gap_Down  \n",
              "178                 -0.15      Gap_Down  \n",
              "179                  0.90        Gap_up  \n",
              "180                  0.00     unchanged  \n",
              "181                  0.05        Gap_up  \n",
              "182                 -0.07      Gap_Down  \n",
              "183                  0.15        Gap_up  \n",
              "184                 -0.01      Gap_Down  "
            ],
            "text/html": [
              "\n",
              "  <div id=\"df-fa551dae-af33-438b-b00e-cd48b2c90ef8\">\n",
              "    <div class=\"colab-df-container\">\n",
              "      <div>\n",
              "<style scoped>\n",
              "    .dataframe tbody tr th:only-of-type {\n",
              "        vertical-align: middle;\n",
              "    }\n",
              "\n",
              "    .dataframe tbody tr th {\n",
              "        vertical-align: top;\n",
              "    }\n",
              "\n",
              "    .dataframe thead th {\n",
              "        text-align: right;\n",
              "    }\n",
              "</style>\n",
              "<table border=\"1\" class=\"dataframe\">\n",
              "  <thead>\n",
              "    <tr style=\"text-align: right;\">\n",
              "      <th></th>\n",
              "      <th>Date</th>\n",
              "      <th>Open</th>\n",
              "      <th>High</th>\n",
              "      <th>Low</th>\n",
              "      <th>Close</th>\n",
              "      <th>year</th>\n",
              "      <th>Onedaychange</th>\n",
              "      <th>singledaychange_low_high</th>\n",
              "      <th>Formatted_date</th>\n",
              "      <th>month</th>\n",
              "      <th>Result</th>\n",
              "      <th>daily_opening_change</th>\n",
              "      <th>daily_opening</th>\n",
              "    </tr>\n",
              "  </thead>\n",
              "  <tbody>\n",
              "    <tr>\n",
              "      <th>165</th>\n",
              "      <td>Apr-19</td>\n",
              "      <td>277.00</td>\n",
              "      <td>285.90</td>\n",
              "      <td>165.30</td>\n",
              "      <td>168.00</td>\n",
              "      <td>19</td>\n",
              "      <td>-39.350181</td>\n",
              "      <td>72.958258</td>\n",
              "      <td>2019-04-01</td>\n",
              "      <td>Apr</td>\n",
              "      <td>negative</td>\n",
              "      <td>1.95</td>\n",
              "      <td>Gap_up</td>\n",
              "    </tr>\n",
              "    <tr>\n",
              "      <th>166</th>\n",
              "      <td>May-19</td>\n",
              "      <td>163.30</td>\n",
              "      <td>178.05</td>\n",
              "      <td>133.05</td>\n",
              "      <td>147.95</td>\n",
              "      <td>19</td>\n",
              "      <td>-9.399878</td>\n",
              "      <td>33.821871</td>\n",
              "      <td>2019-05-01</td>\n",
              "      <td>May</td>\n",
              "      <td>negative</td>\n",
              "      <td>-4.70</td>\n",
              "      <td>Gap_Down</td>\n",
              "    </tr>\n",
              "    <tr>\n",
              "      <th>167</th>\n",
              "      <td>Jun-19</td>\n",
              "      <td>147.95</td>\n",
              "      <td>153.80</td>\n",
              "      <td>98.75</td>\n",
              "      <td>108.70</td>\n",
              "      <td>19</td>\n",
              "      <td>-26.529233</td>\n",
              "      <td>55.746835</td>\n",
              "      <td>2019-06-01</td>\n",
              "      <td>Jun</td>\n",
              "      <td>negative</td>\n",
              "      <td>0.00</td>\n",
              "      <td>unchanged</td>\n",
              "    </tr>\n",
              "    <tr>\n",
              "      <th>168</th>\n",
              "      <td>Jul-19</td>\n",
              "      <td>109.60</td>\n",
              "      <td>110.60</td>\n",
              "      <td>81.75</td>\n",
              "      <td>91.30</td>\n",
              "      <td>19</td>\n",
              "      <td>-16.697080</td>\n",
              "      <td>35.290520</td>\n",
              "      <td>2019-07-01</td>\n",
              "      <td>Jul</td>\n",
              "      <td>negative</td>\n",
              "      <td>0.90</td>\n",
              "      <td>Gap_up</td>\n",
              "    </tr>\n",
              "    <tr>\n",
              "      <th>169</th>\n",
              "      <td>Aug-19</td>\n",
              "      <td>89.20</td>\n",
              "      <td>92.40</td>\n",
              "      <td>53.15</td>\n",
              "      <td>59.50</td>\n",
              "      <td>19</td>\n",
              "      <td>-33.295964</td>\n",
              "      <td>73.847601</td>\n",
              "      <td>2019-08-01</td>\n",
              "      <td>Aug</td>\n",
              "      <td>negative</td>\n",
              "      <td>-2.10</td>\n",
              "      <td>Gap_Down</td>\n",
              "    </tr>\n",
              "    <tr>\n",
              "      <th>170</th>\n",
              "      <td>Sep-19</td>\n",
              "      <td>59.50</td>\n",
              "      <td>72.55</td>\n",
              "      <td>40.95</td>\n",
              "      <td>41.45</td>\n",
              "      <td>19</td>\n",
              "      <td>-30.336134</td>\n",
              "      <td>77.167277</td>\n",
              "      <td>2019-09-01</td>\n",
              "      <td>Sep</td>\n",
              "      <td>negative</td>\n",
              "      <td>0.00</td>\n",
              "      <td>unchanged</td>\n",
              "    </tr>\n",
              "    <tr>\n",
              "      <th>171</th>\n",
              "      <td>Oct-19</td>\n",
              "      <td>42.00</td>\n",
              "      <td>76.65</td>\n",
              "      <td>29.05</td>\n",
              "      <td>70.45</td>\n",
              "      <td>19</td>\n",
              "      <td>67.738095</td>\n",
              "      <td>163.855422</td>\n",
              "      <td>2019-10-01</td>\n",
              "      <td>Oct</td>\n",
              "      <td>positive</td>\n",
              "      <td>0.55</td>\n",
              "      <td>Gap_up</td>\n",
              "    </tr>\n",
              "    <tr>\n",
              "      <th>172</th>\n",
              "      <td>Nov-19</td>\n",
              "      <td>71.00</td>\n",
              "      <td>75.35</td>\n",
              "      <td>59.95</td>\n",
              "      <td>68.30</td>\n",
              "      <td>19</td>\n",
              "      <td>-3.802817</td>\n",
              "      <td>25.688073</td>\n",
              "      <td>2019-11-01</td>\n",
              "      <td>Nov</td>\n",
              "      <td>negative</td>\n",
              "      <td>0.55</td>\n",
              "      <td>Gap_up</td>\n",
              "    </tr>\n",
              "    <tr>\n",
              "      <th>173</th>\n",
              "      <td>Dec-19</td>\n",
              "      <td>70.00</td>\n",
              "      <td>70.50</td>\n",
              "      <td>40.70</td>\n",
              "      <td>46.95</td>\n",
              "      <td>19</td>\n",
              "      <td>-32.928571</td>\n",
              "      <td>73.218673</td>\n",
              "      <td>2019-12-01</td>\n",
              "      <td>Dec</td>\n",
              "      <td>negative</td>\n",
              "      <td>1.70</td>\n",
              "      <td>Gap_up</td>\n",
              "    </tr>\n",
              "    <tr>\n",
              "      <th>174</th>\n",
              "      <td>Jan-20</td>\n",
              "      <td>46.90</td>\n",
              "      <td>48.50</td>\n",
              "      <td>36.55</td>\n",
              "      <td>39.20</td>\n",
              "      <td>20</td>\n",
              "      <td>-16.417910</td>\n",
              "      <td>32.694938</td>\n",
              "      <td>2020-01-01</td>\n",
              "      <td>Jan</td>\n",
              "      <td>negative</td>\n",
              "      <td>-0.05</td>\n",
              "      <td>Gap_Down</td>\n",
              "    </tr>\n",
              "    <tr>\n",
              "      <th>175</th>\n",
              "      <td>Feb-20</td>\n",
              "      <td>39.10</td>\n",
              "      <td>40.70</td>\n",
              "      <td>33.60</td>\n",
              "      <td>34.55</td>\n",
              "      <td>20</td>\n",
              "      <td>-11.636829</td>\n",
              "      <td>21.130952</td>\n",
              "      <td>2020-02-01</td>\n",
              "      <td>Feb</td>\n",
              "      <td>negative</td>\n",
              "      <td>-0.10</td>\n",
              "      <td>Gap_Down</td>\n",
              "    </tr>\n",
              "    <tr>\n",
              "      <th>176</th>\n",
              "      <td>Mar-20</td>\n",
              "      <td>35.20</td>\n",
              "      <td>87.95</td>\n",
              "      <td>5.55</td>\n",
              "      <td>22.45</td>\n",
              "      <td>20</td>\n",
              "      <td>-36.221591</td>\n",
              "      <td>1484.684685</td>\n",
              "      <td>2020-03-01</td>\n",
              "      <td>Mar</td>\n",
              "      <td>negative</td>\n",
              "      <td>0.65</td>\n",
              "      <td>Gap_up</td>\n",
              "    </tr>\n",
              "    <tr>\n",
              "      <th>177</th>\n",
              "      <td>Apr-20</td>\n",
              "      <td>22.30</td>\n",
              "      <td>30.45</td>\n",
              "      <td>20.30</td>\n",
              "      <td>27.95</td>\n",
              "      <td>20</td>\n",
              "      <td>25.336323</td>\n",
              "      <td>50.000000</td>\n",
              "      <td>2020-04-01</td>\n",
              "      <td>Apr</td>\n",
              "      <td>positive</td>\n",
              "      <td>-0.15</td>\n",
              "      <td>Gap_Down</td>\n",
              "    </tr>\n",
              "    <tr>\n",
              "      <th>178</th>\n",
              "      <td>May-20</td>\n",
              "      <td>27.80</td>\n",
              "      <td>31.60</td>\n",
              "      <td>25.20</td>\n",
              "      <td>26.85</td>\n",
              "      <td>20</td>\n",
              "      <td>-3.417266</td>\n",
              "      <td>25.396825</td>\n",
              "      <td>2020-05-01</td>\n",
              "      <td>May</td>\n",
              "      <td>negative</td>\n",
              "      <td>-0.15</td>\n",
              "      <td>Gap_Down</td>\n",
              "    </tr>\n",
              "    <tr>\n",
              "      <th>179</th>\n",
              "      <td>Jun-20</td>\n",
              "      <td>27.75</td>\n",
              "      <td>31.95</td>\n",
              "      <td>25.55</td>\n",
              "      <td>25.60</td>\n",
              "      <td>20</td>\n",
              "      <td>-7.747748</td>\n",
              "      <td>25.048924</td>\n",
              "      <td>2020-06-01</td>\n",
              "      <td>Jun</td>\n",
              "      <td>negative</td>\n",
              "      <td>0.90</td>\n",
              "      <td>Gap_up</td>\n",
              "    </tr>\n",
              "    <tr>\n",
              "      <th>180</th>\n",
              "      <td>Jul-20</td>\n",
              "      <td>25.60</td>\n",
              "      <td>28.30</td>\n",
              "      <td>11.10</td>\n",
              "      <td>11.95</td>\n",
              "      <td>20</td>\n",
              "      <td>-53.320312</td>\n",
              "      <td>154.954955</td>\n",
              "      <td>2020-07-01</td>\n",
              "      <td>Jul</td>\n",
              "      <td>negative</td>\n",
              "      <td>0.00</td>\n",
              "      <td>unchanged</td>\n",
              "    </tr>\n",
              "    <tr>\n",
              "      <th>181</th>\n",
              "      <td>Aug-20</td>\n",
              "      <td>12.00</td>\n",
              "      <td>17.16</td>\n",
              "      <td>11.85</td>\n",
              "      <td>14.37</td>\n",
              "      <td>20</td>\n",
              "      <td>19.750000</td>\n",
              "      <td>44.810127</td>\n",
              "      <td>2020-08-01</td>\n",
              "      <td>Aug</td>\n",
              "      <td>positive</td>\n",
              "      <td>0.05</td>\n",
              "      <td>Gap_up</td>\n",
              "    </tr>\n",
              "    <tr>\n",
              "      <th>182</th>\n",
              "      <td>Sep-20</td>\n",
              "      <td>14.30</td>\n",
              "      <td>15.34</td>\n",
              "      <td>12.75</td>\n",
              "      <td>13.15</td>\n",
              "      <td>20</td>\n",
              "      <td>-8.041958</td>\n",
              "      <td>20.313725</td>\n",
              "      <td>2020-09-01</td>\n",
              "      <td>Sep</td>\n",
              "      <td>negative</td>\n",
              "      <td>-0.07</td>\n",
              "      <td>Gap_Down</td>\n",
              "    </tr>\n",
              "    <tr>\n",
              "      <th>183</th>\n",
              "      <td>Oct-20</td>\n",
              "      <td>13.30</td>\n",
              "      <td>14.01</td>\n",
              "      <td>12.11</td>\n",
              "      <td>12.42</td>\n",
              "      <td>20</td>\n",
              "      <td>-6.616541</td>\n",
              "      <td>15.689513</td>\n",
              "      <td>2020-10-01</td>\n",
              "      <td>Oct</td>\n",
              "      <td>negative</td>\n",
              "      <td>0.15</td>\n",
              "      <td>Gap_up</td>\n",
              "    </tr>\n",
              "    <tr>\n",
              "      <th>184</th>\n",
              "      <td>Nov-20</td>\n",
              "      <td>12.41</td>\n",
              "      <td>14.90</td>\n",
              "      <td>12.21</td>\n",
              "      <td>14.67</td>\n",
              "      <td>20</td>\n",
              "      <td>18.211120</td>\n",
              "      <td>22.031122</td>\n",
              "      <td>2020-11-01</td>\n",
              "      <td>Nov</td>\n",
              "      <td>positive</td>\n",
              "      <td>-0.01</td>\n",
              "      <td>Gap_Down</td>\n",
              "    </tr>\n",
              "  </tbody>\n",
              "</table>\n",
              "</div>\n",
              "      <button class=\"colab-df-convert\" onclick=\"convertToInteractive('df-fa551dae-af33-438b-b00e-cd48b2c90ef8')\"\n",
              "              title=\"Convert this dataframe to an interactive table.\"\n",
              "              style=\"display:none;\">\n",
              "        \n",
              "  <svg xmlns=\"http://www.w3.org/2000/svg\" height=\"24px\"viewBox=\"0 0 24 24\"\n",
              "       width=\"24px\">\n",
              "    <path d=\"M0 0h24v24H0V0z\" fill=\"none\"/>\n",
              "    <path d=\"M18.56 5.44l.94 2.06.94-2.06 2.06-.94-2.06-.94-.94-2.06-.94 2.06-2.06.94zm-11 1L8.5 8.5l.94-2.06 2.06-.94-2.06-.94L8.5 2.5l-.94 2.06-2.06.94zm10 10l.94 2.06.94-2.06 2.06-.94-2.06-.94-.94-2.06-.94 2.06-2.06.94z\"/><path d=\"M17.41 7.96l-1.37-1.37c-.4-.4-.92-.59-1.43-.59-.52 0-1.04.2-1.43.59L10.3 9.45l-7.72 7.72c-.78.78-.78 2.05 0 2.83L4 21.41c.39.39.9.59 1.41.59.51 0 1.02-.2 1.41-.59l7.78-7.78 2.81-2.81c.8-.78.8-2.07 0-2.86zM5.41 20L4 18.59l7.72-7.72 1.47 1.35L5.41 20z\"/>\n",
              "  </svg>\n",
              "      </button>\n",
              "      \n",
              "  <style>\n",
              "    .colab-df-container {\n",
              "      display:flex;\n",
              "      flex-wrap:wrap;\n",
              "      gap: 12px;\n",
              "    }\n",
              "\n",
              "    .colab-df-convert {\n",
              "      background-color: #E8F0FE;\n",
              "      border: none;\n",
              "      border-radius: 50%;\n",
              "      cursor: pointer;\n",
              "      display: none;\n",
              "      fill: #1967D2;\n",
              "      height: 32px;\n",
              "      padding: 0 0 0 0;\n",
              "      width: 32px;\n",
              "    }\n",
              "\n",
              "    .colab-df-convert:hover {\n",
              "      background-color: #E2EBFA;\n",
              "      box-shadow: 0px 1px 2px rgba(60, 64, 67, 0.3), 0px 1px 3px 1px rgba(60, 64, 67, 0.15);\n",
              "      fill: #174EA6;\n",
              "    }\n",
              "\n",
              "    [theme=dark] .colab-df-convert {\n",
              "      background-color: #3B4455;\n",
              "      fill: #D2E3FC;\n",
              "    }\n",
              "\n",
              "    [theme=dark] .colab-df-convert:hover {\n",
              "      background-color: #434B5C;\n",
              "      box-shadow: 0px 1px 3px 1px rgba(0, 0, 0, 0.15);\n",
              "      filter: drop-shadow(0px 1px 2px rgba(0, 0, 0, 0.3));\n",
              "      fill: #FFFFFF;\n",
              "    }\n",
              "  </style>\n",
              "\n",
              "      <script>\n",
              "        const buttonEl =\n",
              "          document.querySelector('#df-fa551dae-af33-438b-b00e-cd48b2c90ef8 button.colab-df-convert');\n",
              "        buttonEl.style.display =\n",
              "          google.colab.kernel.accessAllowed ? 'block' : 'none';\n",
              "\n",
              "        async function convertToInteractive(key) {\n",
              "          const element = document.querySelector('#df-fa551dae-af33-438b-b00e-cd48b2c90ef8');\n",
              "          const dataTable =\n",
              "            await google.colab.kernel.invokeFunction('convertToInteractive',\n",
              "                                                     [key], {});\n",
              "          if (!dataTable) return;\n",
              "\n",
              "          const docLinkHtml = 'Like what you see? Visit the ' +\n",
              "            '<a target=\"_blank\" href=https://colab.research.google.com/notebooks/data_table.ipynb>data table notebook</a>'\n",
              "            + ' to learn more about interactive tables.';\n",
              "          element.innerHTML = '';\n",
              "          dataTable['output_type'] = 'display_data';\n",
              "          await google.colab.output.renderOutput(dataTable, element);\n",
              "          const docLink = document.createElement('div');\n",
              "          docLink.innerHTML = docLinkHtml;\n",
              "          element.appendChild(docLink);\n",
              "        }\n",
              "      </script>\n",
              "    </div>\n",
              "  </div>\n",
              "  "
            ]
          },
          "metadata": {},
          "execution_count": 538
        }
      ]
    },
    {
      "cell_type": "markdown",
      "source": [
        "##### 1. Why did you pick the specific chart?"
      ],
      "metadata": {
        "id": "t27r6nlMphqO"
      }
    },
    {
      "cell_type": "markdown",
      "source": [
        "To check the perecentage of change in price for month"
      ],
      "metadata": {
        "id": "iv6ro40sphqO"
      }
    },
    {
      "cell_type": "markdown",
      "source": [
        "##### 2. What is/are the insight(s) found from the chart?"
      ],
      "metadata": {
        "id": "r2jJGEOYphqO"
      }
    },
    {
      "cell_type": "markdown",
      "source": [
        "Mean average change or percantage in month is 1% and in the month of mar-2020 it had a high volalitiy of around 1484% and mar-2020 is most month is the yes bank price history."
      ],
      "metadata": {
        "id": "Po6ZPi4hphqO"
      }
    },
    {
      "cell_type": "markdown",
      "source": [
        "##### 3. Will the gained insights help creating a positive business impact? \n",
        "Are there any insights that lead to negative growth? Justify with specific reason."
      ],
      "metadata": {
        "id": "b0JNsNcRphqO"
      }
    },
    {
      "cell_type": "markdown",
      "source": [
        "There is no insight for the business, as we are checking the stock price."
      ],
      "metadata": {
        "id": "xvSq8iUTphqO"
      }
    },
    {
      "cell_type": "markdown",
      "source": [
        "#### Chart - 4"
      ],
      "metadata": {
        "id": "BZR9WyysphqO"
      }
    },
    {
      "cell_type": "code",
      "source": [
        "# Chart - 8 visualization code\n",
        "sns.lineplot(data=df,x='Formatted_date',y='singledaychange_low_high')"
      ],
      "metadata": {
        "id": "TdPTWpAVphqO",
        "outputId": "98d3b412-422a-4bb6-cf90-1d4a2b2b0f6d",
        "colab": {
          "base_uri": "https://localhost:8080/",
          "height": 623
        }
      },
      "execution_count": 539,
      "outputs": [
        {
          "output_type": "execute_result",
          "data": {
            "text/plain": [
              "<matplotlib.axes._subplots.AxesSubplot at 0x7eff6f1c7b20>"
            ]
          },
          "metadata": {},
          "execution_count": 539
        },
        {
          "output_type": "display_data",
          "data": {
            "text/plain": [
              "<Figure size 720x720 with 1 Axes>"
            ],
            "image/png": "[encoded data removed]"
          },
          "metadata": {
            "needs_background": "light"
          }
        }
      ]
    },
    {
      "cell_type": "markdown",
      "source": [
        "##### 1. Why did you pick the specific chart?"
      ],
      "metadata": {
        "id": "jj7wYXLtphqO"
      }
    },
    {
      "cell_type": "markdown",
      "source": [
        "Answer Here."
      ],
      "metadata": {
        "id": "Ob8u6rCTphqO"
      }
    },
    {
      "cell_type": "markdown",
      "source": [
        "##### 2. What is/are the insight(s) found from the chart?"
      ],
      "metadata": {
        "id": "eZrbJ2SmphqO"
      }
    },
    {
      "cell_type": "markdown",
      "source": [
        "Answer Here"
      ],
      "metadata": {
        "id": "mZtgC_hjphqO"
      }
    },
    {
      "cell_type": "markdown",
      "source": [
        "##### 3. Will the gained insights help creating a positive business impact? \n",
        "Are there any insights that lead to negative growth? Justify with specific reason."
      ],
      "metadata": {
        "id": "rFu4xreNphqO"
      }
    },
    {
      "cell_type": "markdown",
      "source": [
        "There is no insight for the business, as we are checking the stock price."
      ],
      "metadata": {
        "id": "ey_0qi68phqO"
      }
    },
    {
      "cell_type": "markdown",
      "source": [
        "#### Chart - 5"
      ],
      "metadata": {
        "id": "KSlN3yHqYklG"
      }
    },
    {
      "cell_type": "code",
      "source": [
        "# Chart - 2 visualization code\n",
        "df_avg_price_year.plot(kind='bar',label = 'year')\n"
      ],
      "metadata": {
        "id": "R4YgtaqtYklH",
        "colab": {
          "base_uri": "https://localhost:8080/",
          "height": 611
        },
        "outputId": "5a683c68-af3c-4a84-cbb0-5f8f7e884efb"
      },
      "execution_count": 540,
      "outputs": [
        {
          "output_type": "execute_result",
          "data": {
            "text/plain": [
              "<matplotlib.axes._subplots.AxesSubplot at 0x7eff6efcbfa0>"
            ]
          },
          "metadata": {},
          "execution_count": 540
        },
        {
          "output_type": "display_data",
          "data": {
            "text/plain": [
              "<Figure size 720x720 with 1 Axes>"
            ],
            "image/png": "[encoded data removed]"
          },
          "metadata": {
            "needs_background": "light"
          }
        }
      ]
    },
    {
      "cell_type": "markdown",
      "source": [
        "##### 1. Why did you pick the specific chart?"
      ],
      "metadata": {
        "id": "t6dVpIINYklI"
      }
    },
    {
      "cell_type": "markdown",
      "source": [
        "To check trend in the price thorugh the year."
      ],
      "metadata": {
        "id": "5aaW0BYyYklI"
      }
    },
    {
      "cell_type": "markdown",
      "source": [
        "##### 2. What is/are the insight(s) found from the chart?"
      ],
      "metadata": {
        "id": "ijmpgYnKYklI"
      }
    },
    {
      "cell_type": "markdown",
      "source": [
        "The stock as performed well till 2018 and after that there was a huge surge in the stock price due to bank Non perferring assest."
      ],
      "metadata": {
        "id": "PSx9atu2YklI"
      }
    },
    {
      "cell_type": "markdown",
      "source": [
        "##### 3. Will the gained insights help creating a positive business impact? \n",
        "Are there any insights that lead to negative growth? Justify with specific reason."
      ],
      "metadata": {
        "id": "-JiQyfWJYklI"
      }
    },
    {
      "cell_type": "markdown",
      "source": [
        "There is no insight for the business, as we are checking the stock price."
      ],
      "metadata": {
        "id": "BcBbebzrYklV"
      }
    },
    {
      "cell_type": "markdown",
      "source": [
        "#### Chart - 6"
      ],
      "metadata": {
        "id": "0wOQAZs5pc--"
      }
    },
    {
      "cell_type": "code",
      "source": [
        "# Chart - 1 visualization code\n",
        "plt.rcParams[\"figure.figsize\"] = (10,10)\n",
        "fig, ax = plt.subplots(4)\n",
        "sns.lineplot(data=df,x='Formatted_date',y='Close',ax = ax[0])\n",
        "sns.lineplot(data=df,x='Formatted_date',y='Open',ax=ax[1])\n",
        "sns.lineplot(data=df,x='Formatted_date',y='Low',ax=ax[2])\n",
        "sns.lineplot(data=df,x='Formatted_date',y='High',ax=ax[3])\n"
      ],
      "metadata": {
        "id": "7v_ESjsspbW7",
        "colab": {
          "base_uri": "https://localhost:8080/",
          "height": 623
        },
        "outputId": "a1b57f50-5bc3-4bef-ea61-781a7d9e63d3"
      },
      "execution_count": 541,
      "outputs": [
        {
          "output_type": "execute_result",
          "data": {
            "text/plain": [
              "<matplotlib.axes._subplots.AxesSubplot at 0x7eff6eed8790>"
            ]
          },
          "metadata": {},
          "execution_count": 541
        },
        {
          "output_type": "display_data",
          "data": {
            "text/plain": [
              "<Figure size 720x720 with 4 Axes>"
            ],
            "image/png": "[encoded data removed]"
          },
          "metadata": {
            "needs_background": "light"
          }
        }
      ]
    },
    {
      "cell_type": "markdown",
      "source": [
        "##### 1. Why did you pick the specific chart?"
      ],
      "metadata": {
        "id": "K5QZ13OEpz2H"
      }
    },
    {
      "cell_type": "markdown",
      "source": [
        "To check the trend of the price with all the features"
      ],
      "metadata": {
        "id": "XESiWehPqBRc"
      }
    },
    {
      "cell_type": "markdown",
      "source": [
        "##### 2. What is/are the insight(s) found from the chart?"
      ],
      "metadata": {
        "id": "lQ7QKXXCp7Bj"
      }
    },
    {
      "cell_type": "markdown",
      "source": [
        "Open, low, high and close all the data trend are similar to each, so there are highly correlated with each other."
      ],
      "metadata": {
        "id": "C_j1G7yiqdRP"
      }
    },
    {
      "cell_type": "markdown",
      "source": [
        "##### 3. Will the gained insights help creating a positive business impact? \n",
        "Are there any insights that lead to negative growth? Justify with specific reason."
      ],
      "metadata": {
        "id": "448CDAPjqfQr"
      }
    },
    {
      "cell_type": "markdown",
      "source": [
        "There is no insight for the business, as we are checking the stock price."
      ],
      "metadata": {
        "id": "3cspy4FjqxJW"
      }
    },
    {
      "cell_type": "markdown",
      "source": [
        "#### Chart - 7"
      ],
      "metadata": {
        "id": "bamQiAODYuh1"
      }
    },
    {
      "cell_type": "code",
      "source": [
        "# Chart - 5 visualization code\n",
        "sns.scatterplot(data=df,x='Open',y='Close')"
      ],
      "metadata": {
        "id": "TIJwrbroYuh3",
        "colab": {
          "base_uri": "https://localhost:8080/",
          "height": 623
        },
        "outputId": "1eacbd97-29ad-415c-a1a5-82467947caf8"
      },
      "execution_count": 542,
      "outputs": [
        {
          "output_type": "execute_result",
          "data": {
            "text/plain": [
              "<matplotlib.axes._subplots.AxesSubplot at 0x7eff6ee1f8b0>"
            ]
          },
          "metadata": {},
          "execution_count": 542
        },
        {
          "output_type": "display_data",
          "data": {
            "text/plain": [
              "<Figure size 720x720 with 1 Axes>"
            ],
            "image/png": "[encoded data removed]"
          },
          "metadata": {
            "needs_background": "light"
          }
        }
      ]
    },
    {
      "cell_type": "markdown",
      "source": [
        "##### 1. Why did you pick the specific chart?"
      ],
      "metadata": {
        "id": "QHF8YVU7Yuh3"
      }
    },
    {
      "cell_type": "markdown",
      "source": [
        "To check the releationship between the open and close price."
      ],
      "metadata": {
        "id": "dcxuIMRPYuh3"
      }
    },
    {
      "cell_type": "markdown",
      "source": [
        "##### 2. What is/are the insight(s) found from the chart?"
      ],
      "metadata": {
        "id": "GwzvFGzlYuh3"
      }
    },
    {
      "cell_type": "markdown",
      "source": [
        "From the graph we can see they are following the linear pattern."
      ],
      "metadata": {
        "id": "uyqkiB8YYuh3"
      }
    },
    {
      "cell_type": "markdown",
      "source": [
        "##### 3. Will the gained insights help creating a positive business impact? \n",
        "Are there any insights that lead to negative growth? Justify with specific reason."
      ],
      "metadata": {
        "id": "qYpmQ266Yuh3"
      }
    },
    {
      "cell_type": "markdown",
      "source": [
        "There is no insight for the business, as we are checking the stock price."
      ],
      "metadata": {
        "id": "_WtzZ_hCYuh4"
      }
    },
    {
      "cell_type": "markdown",
      "source": [
        "#### Chart - 8"
      ],
      "metadata": {
        "id": "OH-pJp9IphqM"
      }
    },
    {
      "cell_type": "code",
      "source": [
        "# Chart - 6 visualization code\n",
        "fig, axes = plt.subplots(1, 2, figsize=(22, 6))\n",
        "ax = axes.flatten()\n",
        "sns.countplot(data = df, x ='Result',ax = ax[0])\n",
        "sns.countplot(data = df, x ='daily_opening',ax = ax[1])"
      ],
      "metadata": {
        "id": "kuRf4wtuphqN",
        "colab": {
          "base_uri": "https://localhost:8080/",
          "height": 407
        },
        "outputId": "da1da130-0bf2-4f13-924e-f4df115942f1"
      },
      "execution_count": 543,
      "outputs": [
        {
          "output_type": "execute_result",
          "data": {
            "text/plain": [
              "<matplotlib.axes._subplots.AxesSubplot at 0x7eff6ed9dc10>"
            ]
          },
          "metadata": {},
          "execution_count": 543
        },
        {
          "output_type": "display_data",
          "data": {
            "text/plain": [
              "<Figure size 1584x432 with 2 Axes>"
            ],
            "image/png": "[encoded data removed]"
          },
          "metadata": {
            "needs_background": "light"
          }
        }
      ]
    },
    {
      "cell_type": "markdown",
      "source": [
        "##### 1. Why did you pick the specific chart?"
      ],
      "metadata": {
        "id": "bbFf2-_FphqN"
      }
    },
    {
      "cell_type": "markdown",
      "source": [
        "To check the proporation of the categorical variable."
      ],
      "metadata": {
        "id": "loh7H2nzphqN"
      }
    },
    {
      "cell_type": "markdown",
      "source": [
        "##### 2. What is/are the insight(s) found from the chart?"
      ],
      "metadata": {
        "id": "_ouA3fa0phqN"
      }
    },
    {
      "cell_type": "markdown",
      "source": [
        "In a month it had around 100 months of positive impact and 85 negative impact in the stock price.\n",
        "\n",
        "In a month it had around 128 months gap up and 48 months of gap down and 9 months of unchanged."
      ],
      "metadata": {
        "id": "VECbqPI7phqN"
      }
    },
    {
      "cell_type": "markdown",
      "source": [
        "##### 3. Will the gained insights help creating a positive business impact? \n",
        "Are there any insights that lead to negative growth? Justify with specific reason."
      ],
      "metadata": {
        "id": "Seke61FWphqN"
      }
    },
    {
      "cell_type": "markdown",
      "source": [
        "There is no insight for the business, as we are checking the stock price."
      ],
      "metadata": {
        "id": "DW4_bGpfphqN"
      }
    },
    {
      "cell_type": "markdown",
      "source": [
        "#### Chart - 9 - Correlation Heatmap"
      ],
      "metadata": {
        "id": "NC_X3p0fY2L0"
      }
    },
    {
      "cell_type": "code",
      "source": [
        "# Correlation Heatmap visualization code\n",
        "sns.heatmap(df.corr(),annot = True)"
      ],
      "metadata": {
        "id": "xyC9zolEZNRQ",
        "colab": {
          "base_uri": "https://localhost:8080/",
          "height": 737
        },
        "outputId": "33b6fa49-a9b3-403e-f40e-231f8fdba1d6"
      },
      "execution_count": 544,
      "outputs": [
        {
          "output_type": "execute_result",
          "data": {
            "text/plain": [
              "<matplotlib.axes._subplots.AxesSubplot at 0x7eff6ed0cd60>"
            ]
          },
          "metadata": {},
          "execution_count": 544
        },
        {
          "output_type": "display_data",
          "data": {
            "text/plain": [
              "<Figure size 720x720 with 2 Axes>"
            ],
            "image/png": "[encoded data removed]"
          },
          "metadata": {
            "needs_background": "light"
          }
        }
      ]
    },
    {
      "cell_type": "markdown",
      "source": [
        "##### 1. Why did you pick the specific chart?"
      ],
      "metadata": {
        "id": "UV0SzAkaZNRQ"
      }
    },
    {
      "cell_type": "markdown",
      "source": [
        "To find the correlation between the features."
      ],
      "metadata": {
        "id": "DVPuT8LYZNRQ"
      }
    },
    {
      "cell_type": "markdown",
      "source": [
        "##### 2. What is/are the insight(s) found from the chart?"
      ],
      "metadata": {
        "id": "YPEH6qLeZNRQ"
      }
    },
    {
      "cell_type": "markdown",
      "source": [
        "Open, high, close and low are highly correlated with one another, so we take only one column for the ML model."
      ],
      "metadata": {
        "id": "bfSqtnDqZNRR"
      }
    },
    {
      "cell_type": "markdown",
      "source": [
        "#### Chart - 10 - Pair plot"
      ],
      "metadata": {
        "id": "U2RJ9gkRphqQ"
      }
    },
    {
      "cell_type": "code",
      "source": [
        "# Pair Plot visualization code\n",
        "sns.pairplot(df)"
      ],
      "metadata": {
        "id": "o58-TEIhveiU",
        "colab": {
          "base_uri": "https://localhost:8080/",
          "height": 105
        },
        "outputId": "f7bf11c7-b636-4a2a-be14-a4488f9c2d0a"
      },
      "execution_count": 545,
      "outputs": [
        {
          "output_type": "execute_result",
          "data": {
            "text/plain": [
              "<seaborn.axisgrid.PairGrid at 0x7eff6ee0ea60>"
            ]
          },
          "metadata": {},
          "execution_count": 545
        },
        {
          "output_type": "display_data",
          "data": {
            "text/plain": [
              "<Figure size 1260x1260 with 56 Axes>"
            ],
            "image/png": "[encoded data removed]"
          },
          "metadata": {
            "needs_background": "light"
          }
        }
      ]
    },
    {
      "cell_type": "markdown",
      "source": [
        "##### 1. Why did you pick the specific chart?"
      ],
      "metadata": {
        "id": "EXh0U9oCveiU"
      }
    },
    {
      "cell_type": "markdown",
      "source": [
        "To check the relationship betwee the two variables."
      ],
      "metadata": {
        "id": "eMmPjTByveiU"
      }
    },
    {
      "cell_type": "markdown",
      "source": [
        "##### 2. What is/are the insight(s) found from the chart?"
      ],
      "metadata": {
        "id": "22aHeOlLveiV"
      }
    },
    {
      "cell_type": "markdown",
      "source": [
        "Open, high, low and close are linearly related and the data are highly skewed to the right "
      ],
      "metadata": {
        "id": "uPQ8RGwHveiV"
      }
    },
    {
      "cell_type": "markdown",
      "source": [
        "## ***5. Hypothesis Testing***"
      ],
      "metadata": {
        "id": "g-ATYxFrGrvw"
      }
    },
    {
      "cell_type": "markdown",
      "source": [
        "### Hypothetical Statement - 1"
      ],
      "metadata": {
        "id": "8yEUt7NnHlrM"
      }
    },
    {
      "cell_type": "markdown",
      "source": [
        "#### 1. State Your research hypothesis as a null hypothesis and alternate hypothesis."
      ],
      "metadata": {
        "id": "tEA2Xm5dHt1r"
      }
    },
    {
      "cell_type": "markdown",
      "source": [
        "null hypotheis = 105 and alternate hypothesis is != 105"
      ],
      "metadata": {
        "id": "HI9ZP0laH0D-"
      }
    },
    {
      "cell_type": "markdown",
      "source": [
        "#### 2. Perform an appropriate statistical test."
      ],
      "metadata": {
        "id": "I79__PHVH19G"
      }
    },
    {
      "cell_type": "code",
      "source": [
        "# Perform Statistical Test to obtain P-value\n",
        "from statistics import mean\n",
        "import statistics\n",
        "import scipy.stats as stats\n",
        "mean = mean(df['Open'])\n",
        "std_dev = statistics.stdev(df['Open'])\n",
        "print(mean,std_dev)"
      ],
      "metadata": {
        "id": "oZrfquKtyian",
        "colab": {
          "base_uri": "https://localhost:8080/"
        },
        "outputId": "e4814547-5b52-404f-fafd-95e2842b4c62"
      },
      "execution_count": 546,
      "outputs": [
        {
          "output_type": "stream",
          "name": "stdout",
          "text": [
            "105.54140540540541 98.87984957695843\n"
          ]
        }
      ]
    },
    {
      "cell_type": "code",
      "source": [
        "import math\n",
        "score = (350-mean)/(std_dev)\n",
        "print(score)"
      ],
      "metadata": {
        "colab": {
          "base_uri": "https://localhost:8080/"
        },
        "id": "vzTQ_fGwcsST",
        "outputId": "5c2d7f40-b73b-48be-cb52-9f3a361a1d12"
      },
      "execution_count": 547,
      "outputs": [
        {
          "output_type": "stream",
          "name": "stdout",
          "text": [
            "2.472279191771341\n"
          ]
        }
      ]
    },
    {
      "cell_type": "code",
      "source": [
        "from scipy.stats import norm\n",
        "p_value = 2 * (1 - norm.cdf(abs(score)))\n",
        "print(p_value)\n"
      ],
      "metadata": {
        "colab": {
          "base_uri": "https://localhost:8080/"
        },
        "id": "BVcFohVJdcsV",
        "outputId": "42a654d5-1c6a-4d6e-db37-7687af684c2d"
      },
      "execution_count": 548,
      "outputs": [
        {
          "output_type": "stream",
          "name": "stdout",
          "text": [
            "0.01342546217755225\n"
          ]
        }
      ]
    },
    {
      "cell_type": "markdown",
      "source": [
        "##### Which statistical test have you done to obtain P-Value?"
      ],
      "metadata": {
        "id": "Ou-I18pAyIpj"
      }
    },
    {
      "cell_type": "markdown",
      "source": [
        "Used z-score to find the p-value"
      ],
      "metadata": {
        "id": "s2U0kk00ygSB"
      }
    },
    {
      "cell_type": "markdown",
      "source": [
        "##### Why did you choose the specific statistical test?"
      ],
      "metadata": {
        "id": "fF3858GYyt-u"
      }
    },
    {
      "cell_type": "markdown",
      "source": [
        "as we now the population mean and population std so we have used to z-score test."
      ],
      "metadata": {
        "id": "HO4K0gP5y3B4"
      }
    },
    {
      "cell_type": "markdown",
      "source": [
        "## ***6. Feature Engineering & Data Pre-processing***"
      ],
      "metadata": {
        "id": "yLjJCtPM0KBk"
      }
    },
    {
      "cell_type": "markdown",
      "source": [
        "### 1. Handling Missing Values"
      ],
      "metadata": {
        "id": "xiyOF9F70UgQ"
      }
    },
    {
      "cell_type": "code",
      "source": [
        "# Handling Missing Values & Missing Value Imputation\n",
        "df.isnull().sum()"
      ],
      "metadata": {
        "id": "iRsAHk1K0fpS",
        "outputId": "0e278bc6-b979-4cab-d744-9d205cc0b0c0",
        "colab": {
          "base_uri": "https://localhost:8080/"
        }
      },
      "execution_count": 551,
      "outputs": [
        {
          "output_type": "execute_result",
          "data": {
            "text/plain": [
              "Date                        0\n",
              "Open                        0\n",
              "High                        0\n",
              "Low                         0\n",
              "Close                       0\n",
              "year                        0\n",
              "Onedaychange                0\n",
              "singledaychange_low_high    0\n",
              "Formatted_date              0\n",
              "month                       0\n",
              "Result                      0\n",
              "daily_opening_change        0\n",
              "daily_opening               0\n",
              "dtype: int64"
            ]
          },
          "metadata": {},
          "execution_count": 551
        }
      ]
    },
    {
      "cell_type": "markdown",
      "source": [
        "#### What all missing value imputation techniques have you used and why did you use those techniques?"
      ],
      "metadata": {
        "id": "7wuGOrhz0itI"
      }
    },
    {
      "cell_type": "markdown",
      "source": [
        "No null values in the dataset, so there no need of imputation"
      ],
      "metadata": {
        "id": "1ixusLtI0pqI"
      }
    },
    {
      "cell_type": "markdown",
      "source": [
        "### 2. Handling Outliers"
      ],
      "metadata": {
        "id": "id1riN9m0vUs"
      }
    },
    {
      "cell_type": "code",
      "source": [
        "# Handling Outliers & Outlier treatments\n",
        "Open_95 = np.percentile(df['Open'],95)\n",
        "Close_95 = np.percentile(df['Close'],95)\n",
        "Low_95 = np.percentile(df['Low'],95)\n",
        "High_95 = np.percentile(df['High'],95)\n",
        "print(Open_95,Close_95,Low_95,High_95)"
      ],
      "metadata": {
        "id": "M6w2CzZf04JK",
        "colab": {
          "base_uri": "https://localhost:8080/"
        },
        "outputId": "b9abf740-66a0-49a3-8e4d-b6871e133061"
      },
      "execution_count": 552,
      "outputs": [
        {
          "output_type": "stream",
          "name": "stdout",
          "text": [
            "324.9399999999999 325.3619999999999 300.55999999999995 361.53999999999974\n"
          ]
        }
      ]
    },
    {
      "cell_type": "code",
      "source": [
        "# df.loc[df['Open'] >= Open_95,'Open'] = Open_95\n",
        "# df.loc[df['Close'] >= Close_95,'Close'] = Close_95\n",
        "# df.loc[df['Low'] >= Low_95,'Low'] = Low_95\n",
        "# df.loc[df['High'] >= High_95,'High'] = High_95\n"
      ],
      "metadata": {
        "id": "czJOORsmCLrD"
      },
      "execution_count": 553,
      "outputs": []
    },
    {
      "cell_type": "code",
      "source": [
        "df.drop(['Result','Date','year','Onedaychange','singledaychange_low_high','Formatted_date','month','daily_opening_change','daily_opening'],inplace = True,axis = 1)"
      ],
      "metadata": {
        "id": "GlNTbWSuE3B0"
      },
      "execution_count": 554,
      "outputs": []
    },
    {
      "cell_type": "code",
      "source": [
        "sns.boxplot(data = df)"
      ],
      "metadata": {
        "colab": {
          "base_uri": "https://localhost:8080/",
          "height": 105
        },
        "id": "yI1Rp1uAD377",
        "outputId": "8876902f-beca-441d-f37e-78710ebc3a6f"
      },
      "execution_count": 555,
      "outputs": [
        {
          "output_type": "execute_result",
          "data": {
            "text/plain": [
              "<matplotlib.axes._subplots.AxesSubplot at 0x7eff6f16be50>"
            ]
          },
          "metadata": {},
          "execution_count": 555
        },
        {
          "output_type": "display_data",
          "data": {
            "text/plain": [
              "<Figure size 720x720 with 1 Axes>"
            ],
            "image/png": "[encoded data removed]"
          },
          "metadata": {
            "needs_background": "light"
          }
        }
      ]
    },
    {
      "cell_type": "markdown",
      "source": [
        "##### What all outlier treatment techniques have you used and why did you use those techniques?"
      ],
      "metadata": {
        "id": "578E2V7j08f6"
      }
    },
    {
      "cell_type": "markdown",
      "source": [
        "Used winsorization technique to update the outiler to the 95th percentile value in respective columns.\n",
        "\n",
        "Outiler values is legitimate data points and we need the values to calculate.However it is necessary to update the date point for the analysis, so we have update the most exterme data point to less exterme data point."
      ],
      "metadata": {
        "id": "uGZz5OrT1HH-"
      }
    },
    {
      "cell_type": "markdown",
      "source": [
        "### 3. Feature Manipulation & Selection"
      ],
      "metadata": {
        "id": "-oLEiFgy-5Pf"
      }
    },
    {
      "cell_type": "markdown",
      "source": [
        "#### 1. Feature Manipulation"
      ],
      "metadata": {
        "id": "C74aWNz2AliB"
      }
    },
    {
      "cell_type": "code",
      "source": [
        "# Manipulate Features to minimize feature correlation and create new features"
      ],
      "metadata": {
        "id": "h1qC4yhBApWC"
      },
      "execution_count": 556,
      "outputs": []
    },
    {
      "cell_type": "markdown",
      "source": [
        "#### 2. Feature Selection"
      ],
      "metadata": {
        "id": "2DejudWSA-a0"
      }
    },
    {
      "cell_type": "code",
      "source": [
        "# Select your features wisely to avoid overfitting\n",
        "\n",
        "def calc_vif(X):\n",
        "\n",
        "    # Calculating VIF\n",
        "    vif = pd.DataFrame()\n",
        "    vif[\"variables\"] = X.columns\n",
        "    vif[\"VIF\"] = [variance_inflation_factor(X.values, i) for i in range(X.shape[1])]\n",
        "\n",
        "    return(vif)"
      ],
      "metadata": {
        "id": "YLhe8UmaBCEE"
      },
      "execution_count": 557,
      "outputs": []
    },
    {
      "cell_type": "code",
      "source": [
        "calc_vif(df[[i for i in df.describe().columns if i not in ['Close','High']]])"
      ],
      "metadata": {
        "id": "qsWidtOfg7VU",
        "outputId": "989755cd-76b0-490c-f2b5-e002e4bf2bb9",
        "colab": {
          "base_uri": "https://localhost:8080/",
          "height": 175
        }
      },
      "execution_count": 558,
      "outputs": [
        {
          "output_type": "execute_result",
          "data": {
            "text/plain": [
              "  variables       VIF\n",
              "0      Open  65.64384\n",
              "1       Low  65.64384"
            ],
            "text/html": [
              "\n",
              "  <div id=\"df-1ec49e6f-1c3d-4eea-82e9-2d54d1a74633\">\n",
              "    <div class=\"colab-df-container\">\n",
              "      <div>\n",
              "<style scoped>\n",
              "    .dataframe tbody tr th:only-of-type {\n",
              "        vertical-align: middle;\n",
              "    }\n",
              "\n",
              "    .dataframe tbody tr th {\n",
              "        vertical-align: top;\n",
              "    }\n",
              "\n",
              "    .dataframe thead th {\n",
              "        text-align: right;\n",
              "    }\n",
              "</style>\n",
              "<table border=\"1\" class=\"dataframe\">\n",
              "  <thead>\n",
              "    <tr style=\"text-align: right;\">\n",
              "      <th></th>\n",
              "      <th>variables</th>\n",
              "      <th>VIF</th>\n",
              "    </tr>\n",
              "  </thead>\n",
              "  <tbody>\n",
              "    <tr>\n",
              "      <th>0</th>\n",
              "      <td>Open</td>\n",
              "      <td>65.64384</td>\n",
              "    </tr>\n",
              "    <tr>\n",
              "      <th>1</th>\n",
              "      <td>Low</td>\n",
              "      <td>65.64384</td>\n",
              "    </tr>\n",
              "  </tbody>\n",
              "</table>\n",
              "</div>\n",
              "      <button class=\"colab-df-convert\" onclick=\"convertToInteractive('df-1ec49e6f-1c3d-4eea-82e9-2d54d1a74633')\"\n",
              "              title=\"Convert this dataframe to an interactive table.\"\n",
              "              style=\"display:none;\">\n",
              "        \n",
              "  <svg xmlns=\"http://www.w3.org/2000/svg\" height=\"24px\"viewBox=\"0 0 24 24\"\n",
              "       width=\"24px\">\n",
              "    <path d=\"M0 0h24v24H0V0z\" fill=\"none\"/>\n",
              "    <path d=\"M18.56 5.44l.94 2.06.94-2.06 2.06-.94-2.06-.94-.94-2.06-.94 2.06-2.06.94zm-11 1L8.5 8.5l.94-2.06 2.06-.94-2.06-.94L8.5 2.5l-.94 2.06-2.06.94zm10 10l.94 2.06.94-2.06 2.06-.94-2.06-.94-.94-2.06-.94 2.06-2.06.94z\"/><path d=\"M17.41 7.96l-1.37-1.37c-.4-.4-.92-.59-1.43-.59-.52 0-1.04.2-1.43.59L10.3 9.45l-7.72 7.72c-.78.78-.78 2.05 0 2.83L4 21.41c.39.39.9.59 1.41.59.51 0 1.02-.2 1.41-.59l7.78-7.78 2.81-2.81c.8-.78.8-2.07 0-2.86zM5.41 20L4 18.59l7.72-7.72 1.47 1.35L5.41 20z\"/>\n",
              "  </svg>\n",
              "      </button>\n",
              "      \n",
              "  <style>\n",
              "    .colab-df-container {\n",
              "      display:flex;\n",
              "      flex-wrap:wrap;\n",
              "      gap: 12px;\n",
              "    }\n",
              "\n",
              "    .colab-df-convert {\n",
              "      background-color: #E8F0FE;\n",
              "      border: none;\n",
              "      border-radius: 50%;\n",
              "      cursor: pointer;\n",
              "      display: none;\n",
              "      fill: #1967D2;\n",
              "      height: 32px;\n",
              "      padding: 0 0 0 0;\n",
              "      width: 32px;\n",
              "    }\n",
              "\n",
              "    .colab-df-convert:hover {\n",
              "      background-color: #E2EBFA;\n",
              "      box-shadow: 0px 1px 2px rgba(60, 64, 67, 0.3), 0px 1px 3px 1px rgba(60, 64, 67, 0.15);\n",
              "      fill: #174EA6;\n",
              "    }\n",
              "\n",
              "    [theme=dark] .colab-df-convert {\n",
              "      background-color: #3B4455;\n",
              "      fill: #D2E3FC;\n",
              "    }\n",
              "\n",
              "    [theme=dark] .colab-df-convert:hover {\n",
              "      background-color: #434B5C;\n",
              "      box-shadow: 0px 1px 3px 1px rgba(0, 0, 0, 0.15);\n",
              "      filter: drop-shadow(0px 1px 2px rgba(0, 0, 0, 0.3));\n",
              "      fill: #FFFFFF;\n",
              "    }\n",
              "  </style>\n",
              "\n",
              "      <script>\n",
              "        const buttonEl =\n",
              "          document.querySelector('#df-1ec49e6f-1c3d-4eea-82e9-2d54d1a74633 button.colab-df-convert');\n",
              "        buttonEl.style.display =\n",
              "          google.colab.kernel.accessAllowed ? 'block' : 'none';\n",
              "\n",
              "        async function convertToInteractive(key) {\n",
              "          const element = document.querySelector('#df-1ec49e6f-1c3d-4eea-82e9-2d54d1a74633');\n",
              "          const dataTable =\n",
              "            await google.colab.kernel.invokeFunction('convertToInteractive',\n",
              "                                                     [key], {});\n",
              "          if (!dataTable) return;\n",
              "\n",
              "          const docLinkHtml = 'Like what you see? Visit the ' +\n",
              "            '<a target=\"_blank\" href=https://colab.research.google.com/notebooks/data_table.ipynb>data table notebook</a>'\n",
              "            + ' to learn more about interactive tables.';\n",
              "          element.innerHTML = '';\n",
              "          dataTable['output_type'] = 'display_data';\n",
              "          await google.colab.output.renderOutput(dataTable, element);\n",
              "          const docLink = document.createElement('div');\n",
              "          docLink.innerHTML = docLinkHtml;\n",
              "          element.appendChild(docLink);\n",
              "        }\n",
              "      </script>\n",
              "    </div>\n",
              "  </div>\n",
              "  "
            ]
          },
          "metadata": {},
          "execution_count": 558
        }
      ]
    },
    {
      "cell_type": "markdown",
      "source": [
        "##### What all feature selection methods have you used  and why?"
      ],
      "metadata": {
        "id": "pEMng2IbBLp7"
      }
    },
    {
      "cell_type": "markdown",
      "source": [
        "variance inflation factor method is used to check the mutlicollineariity between the column and we have used the threshold of 10 and droping the column whichever the value is greater than 10"
      ],
      "metadata": {
        "id": "rb2Lh6Z8BgGs"
      }
    },
    {
      "cell_type": "markdown",
      "source": [
        "##### Which all features you found important and why?"
      ],
      "metadata": {
        "id": "rAdphbQ9Bhjc"
      }
    },
    {
      "cell_type": "markdown",
      "source": [
        "Open features is the only feature we have considered the remaning feature are highly corealated so we dropped those column"
      ],
      "metadata": {
        "id": "fGgaEstsBnaf"
      }
    },
    {
      "cell_type": "markdown",
      "source": [
        "### 4. Data Transformation"
      ],
      "metadata": {
        "id": "TNVZ9zx19K6k"
      }
    },
    {
      "cell_type": "markdown",
      "source": [
        "#### The data is skewed right so we are using the log transformation technique to reduce the skewness and make the data more symmetrical"
      ],
      "metadata": {
        "id": "nqoHp30x9hH9"
      }
    },
    {
      "cell_type": "code",
      "source": [
        "# Transform Your data\n",
        "X = np.log10(df['Open'])\n",
        "y = np.log10(df['Close'])\n",
        "\n"
      ],
      "metadata": {
        "id": "I6quWQ1T9rtH"
      },
      "execution_count": 559,
      "outputs": []
    },
    {
      "cell_type": "markdown",
      "source": [
        "### 5. Data Scaling"
      ],
      "metadata": {
        "id": "rMDnDkt2B6du"
      }
    },
    {
      "cell_type": "code",
      "source": [
        "# Scaling your data\n",
        "\n",
        "std = StandardScaler()\n",
        "X = X.values.reshape(-1,1)\n",
        "X = std.fit_transform(X)\n",
        "y = y.values.reshape(-1,1)\n",
        "y = std.transform(y)\n",
        "\n",
        "\n",
        "\n"
      ],
      "metadata": {
        "id": "dL9LWpySC6x_"
      },
      "execution_count": 560,
      "outputs": []
    },
    {
      "cell_type": "markdown",
      "source": [
        "##### Using the standardisation technique to preserve the shape of the distribution as the feature follow the normal distribution, so we are using the standardisation technique"
      ],
      "metadata": {
        "id": "yiiVWRdJDDil"
      }
    },
    {
      "cell_type": "markdown",
      "source": [
        "### 6. Data Splitting"
      ],
      "metadata": {
        "id": "BhH2vgX9EjGr"
      }
    },
    {
      "cell_type": "code",
      "source": [
        "# Split your data to train and test. Choose Splitting ratio wisely.\n",
        "from sklearn.model_selection import train_test_split \n",
        "X_train, X_test, y_train, y_test = train_test_split( X,y , test_size = 0.2, random_state = 0) \n",
        "print(X_train.shape)\n",
        "print(X_test.shape)"
      ],
      "metadata": {
        "id": "0CTyd2UwEyNM",
        "outputId": "9a71873f-e38d-4c5e-f219-f2af0654e52c",
        "colab": {
          "base_uri": "https://localhost:8080/"
        }
      },
      "execution_count": 561,
      "outputs": [
        {
          "output_type": "stream",
          "name": "stdout",
          "text": [
            "(148, 1)\n",
            "(37, 1)\n"
          ]
        }
      ]
    },
    {
      "cell_type": "markdown",
      "source": [
        "##### What data splitting ratio have you used and why? "
      ],
      "metadata": {
        "id": "qjKvONjwE8ra"
      }
    },
    {
      "cell_type": "markdown",
      "source": [
        "We have used 80/20 ratio means 80% percentage to train and 20% percentage to testing the data."
      ],
      "metadata": {
        "id": "Y2lJ8cobFDb_"
      }
    },
    {
      "cell_type": "markdown",
      "source": [
        "## ***7. ML Model Implementation***"
      ],
      "metadata": {
        "id": "VfCC591jGiD4"
      }
    },
    {
      "cell_type": "markdown",
      "source": [
        "### ML Model - 1"
      ],
      "metadata": {
        "id": "OB4l2ZhMeS1U"
      }
    },
    {
      "cell_type": "code",
      "source": [
        "# ML Model - 1 Implementation\n",
        "\n",
        "# Fit the Algorithm\n",
        "\n",
        "\n",
        "reg = LinearRegression().fit(X_train, y_train)\n",
        "\n",
        "# Predict on the model\n",
        "reg.score(X_train, y_train)"
      ],
      "metadata": {
        "id": "7ebyywQieS1U",
        "outputId": "b6f01c5d-9d47-499f-a373-3116c98d54b5",
        "colab": {
          "base_uri": "https://localhost:8080/"
        }
      },
      "execution_count": 562,
      "outputs": [
        {
          "output_type": "execute_result",
          "data": {
            "text/plain": [
              "0.966055678539003"
            ]
          },
          "metadata": {},
          "execution_count": 562
        }
      ]
    },
    {
      "cell_type": "code",
      "source": [
        "ridge = Ridge(alpha = 0.1)\n",
        "\n",
        "# Fit the Algorithm\n",
        "ridge.fit(X_train,y_train)"
      ],
      "metadata": {
        "id": "yprki3U9IX0y",
        "outputId": "22360c29-414d-4ac5-9c3d-254eaa026722",
        "colab": {
          "base_uri": "https://localhost:8080/"
        }
      },
      "execution_count": 563,
      "outputs": [
        {
          "output_type": "execute_result",
          "data": {
            "text/plain": [
              "Ridge(alpha=0.1)"
            ]
          },
          "metadata": {},
          "execution_count": 563
        }
      ]
    },
    {
      "cell_type": "code",
      "source": [
        "ridge.score(X_train,y_train)"
      ],
      "metadata": {
        "id": "zwvna_zAIeGv",
        "outputId": "fdbe6760-1fdc-4ecc-c659-425c8504757a",
        "colab": {
          "base_uri": "https://localhost:8080/"
        }
      },
      "execution_count": 564,
      "outputs": [
        {
          "output_type": "execute_result",
          "data": {
            "text/plain": [
              "0.9660552110653181"
            ]
          },
          "metadata": {},
          "execution_count": 564
        }
      ]
    },
    {
      "cell_type": "code",
      "source": [
        "reg.coef_"
      ],
      "metadata": {
        "id": "KTHqN3eXuDjt",
        "outputId": "77eef904-4f56-4de5-8d98-6bd7840a246c",
        "colab": {
          "base_uri": "https://localhost:8080/"
        }
      },
      "execution_count": 565,
      "outputs": [
        {
          "output_type": "execute_result",
          "data": {
            "text/plain": [
              "array([[0.98289747]])"
            ]
          },
          "metadata": {},
          "execution_count": 565
        }
      ]
    },
    {
      "cell_type": "code",
      "source": [
        "y_pred_ridge = ridge.predict(X_test)"
      ],
      "metadata": {
        "id": "RuX5v5mAII3m"
      },
      "execution_count": 566,
      "outputs": []
    },
    {
      "cell_type": "code",
      "source": [
        "y_pred_r1 = ridge.predict(X_test)"
      ],
      "metadata": {
        "id": "xe0YteaZIix1"
      },
      "execution_count": 567,
      "outputs": []
    },
    {
      "cell_type": "code",
      "source": [
        "MSE  = mean_squared_error(10**(y_test), 10**(y_pred_r1))\n",
        "print(\"MSE :\" , MSE)\n",
        "\n",
        "RMSE = np.sqrt(MSE)\n",
        "print(\"RMSE :\" ,RMSE)\n",
        "\n",
        "r2 = r2_score(10**(y_test), 10**(y_pred_r1))\n",
        "print(\"R2 :\" ,r2)\n",
        "print(\"Adjusted R2 : \",1-(1-r2_score(10**(y_test), 10**(y_pred_r1)))*((X_test.shape[0]-1)/(X_test.shape[0]-X_test.shape[1]-1)))"
      ],
      "metadata": {
        "id": "0ivX_pVxIocV",
        "outputId": "873f3e6b-8de8-4adf-d458-5eabdd0c34ff",
        "colab": {
          "base_uri": "https://localhost:8080/"
        }
      },
      "execution_count": 568,
      "outputs": [
        {
          "output_type": "stream",
          "name": "stdout",
          "text": [
            "MSE : 21.206358965880803\n",
            "RMSE : 4.605036261082078\n",
            "R2 : 0.8971344995922097\n",
            "Adjusted R2 :  0.8941954852948443\n"
          ]
        }
      ]
    },
    {
      "cell_type": "markdown",
      "source": [
        "#### 1. Explain the ML Model used and it's performance using Evaluation metric Score Chart."
      ],
      "metadata": {
        "id": "ArJBuiUVfxKd"
      }
    },
    {
      "cell_type": "code",
      "source": [
        "# Visualizing evaluation Metric Score chart\n",
        "\n",
        "\n",
        "MSE  = mean_squared_error(10**(y_test), 10**(y_pred_r1))\n",
        "print(\"MSE :\" , MSE)\n",
        "\n",
        "RMSE = np.sqrt(MSE)\n",
        "print(\"RMSE :\" ,RMSE)"
      ],
      "metadata": {
        "id": "rqD5ZohzfxKe",
        "outputId": "665d3e46-4347-43b1-9805-2d3a27a2a1bc",
        "colab": {
          "base_uri": "https://localhost:8080/"
        }
      },
      "execution_count": 569,
      "outputs": [
        {
          "output_type": "stream",
          "name": "stdout",
          "text": [
            "MSE : 21.206358965880803\n",
            "RMSE : 4.605036261082078\n"
          ]
        }
      ]
    },
    {
      "cell_type": "code",
      "source": [
        "\n",
        "r2 = r2_score(10**(y_test), 10**(y_pred_r1))\n",
        "print(\"R2 :\" ,r2)\n",
        "print(\"Adjusted R2 : \",1-(1-r2_score(10**(y_test), 10**(y_pred_r1)))*((X_test.shape[0]-1)/(X_test.shape[0]-X_test.shape[1]-1)))"
      ],
      "metadata": {
        "id": "utOfLVAGuUZl",
        "outputId": "31879e93-0482-42fc-8504-a388726e80db",
        "colab": {
          "base_uri": "https://localhost:8080/"
        }
      },
      "execution_count": 570,
      "outputs": [
        {
          "output_type": "stream",
          "name": "stdout",
          "text": [
            "R2 : 0.8971344995922097\n",
            "Adjusted R2 :  0.8941954852948443\n"
          ]
        }
      ]
    },
    {
      "cell_type": "code",
      "source": [
        "plt.figure(figsize=(8,5))\n",
        "plt.plot(10**(y_pred_r1))\n",
        "plt.plot(np.array(10**(y_test)))\n",
        "plt.legend([\"Predicted\",\"Actual\"])\n",
        "plt.show()"
      ],
      "metadata": {
        "id": "G6ONkkbnuZSJ",
        "outputId": "64314011-ff6f-4991-9068-6172782bb202",
        "colab": {
          "base_uri": "https://localhost:8080/",
          "height": 54
        }
      },
      "execution_count": 571,
      "outputs": [
        {
          "output_type": "display_data",
          "data": {
            "text/plain": [
              "<Figure size 576x360 with 1 Axes>"
            ],
            "image/png": "[encoded data removed]"
          },
          "metadata": {
            "needs_background": "light"
          }
        }
      ]
    },
    {
      "cell_type": "markdown",
      "source": [
        "#### 2. Cross- Validation & Hyperparameter Tuning"
      ],
      "metadata": {
        "id": "4qY1EAkEfxKe"
      }
    },
    {
      "cell_type": "code",
      "source": [
        "# ML Model - 1 Implementation with hyperparameter optimization techniques (i.e., GridSearch CV, RandomSearch CV, Bayesian Optimization etc.)\n",
        "\n",
        "# Fit the Algorithm\n",
        "ridge = Ridge()\n",
        "parameters = {'alpha': [1e-15,1e-10,1e-8,1e-5,1e-4,1e-3,1e-2,1,0.1,5,10,20,30,40,45,50,55,60,100]}\n",
        "ridge_regressor = GridSearchCV(ridge, parameters, scoring='neg_mean_squared_error', cv=3)\n",
        "ridge_regressor.fit(X_train,y_train)\n",
        "\n",
        "# Predict on the model"
      ],
      "metadata": {
        "id": "Dy61ujd6fxKe",
        "outputId": "049cd85a-53a2-4ae5-de5c-9a9fda14a721",
        "colab": {
          "base_uri": "https://localhost:8080/"
        }
      },
      "execution_count": 572,
      "outputs": [
        {
          "output_type": "execute_result",
          "data": {
            "text/plain": [
              "GridSearchCV(cv=3, estimator=Ridge(),\n",
              "             param_grid={'alpha': [1e-15, 1e-10, 1e-08, 1e-05, 0.0001, 0.001,\n",
              "                                   0.01, 1, 0.1, 5, 10, 20, 30, 40, 45, 50, 55,\n",
              "                                   60, 100]},\n",
              "             scoring='neg_mean_squared_error')"
            ]
          },
          "metadata": {},
          "execution_count": 572
        }
      ]
    },
    {
      "cell_type": "code",
      "source": [
        "print(\"The best fit alpha value is found out to be :\" ,ridge_regressor.best_params_)\n",
        "print(\"\\nUsing \",ridge_regressor.best_params_, \" the negative mean squared error is: \", ridge_regressor.best_score_)"
      ],
      "metadata": {
        "id": "9OAIc_EjIDfe",
        "outputId": "4c643912-927d-4a2a-d048-7c1e4520ec28",
        "colab": {
          "base_uri": "https://localhost:8080/"
        }
      },
      "execution_count": 573,
      "outputs": [
        {
          "output_type": "stream",
          "name": "stdout",
          "text": [
            "The best fit alpha value is found out to be : {'alpha': 1}\n",
            "\n",
            "Using  {'alpha': 1}  the negative mean squared error is:  -0.03528326498373566\n"
          ]
        }
      ]
    },
    {
      "cell_type": "code",
      "source": [
        "MSE  = mean_squared_error(10**(y_test), 10**(y_pred_ridge))\n",
        "print(\"MSE :\" , MSE)\n",
        "\n",
        "RMSE = np.sqrt(MSE)\n",
        "print(\"RMSE :\" ,RMSE)\n",
        "\n",
        "r2 = r2_score(10**(y_test), 10**(y_pred_ridge))\n",
        "print(\"R2 :\" ,r2)\n",
        "print(\"Adjusted R2 : \",1-(1-r2_score(10**(y_test), 10**(y_pred_ridge)))*((X_test.shape[0]-1)/(X_test.shape[0]-X_test.shape[1]-1)))"
      ],
      "metadata": {
        "id": "OZWpDgbuIOMC",
        "outputId": "b9739525-0290-45ff-f27b-436655d3367f",
        "colab": {
          "base_uri": "https://localhost:8080/"
        }
      },
      "execution_count": 574,
      "outputs": [
        {
          "output_type": "stream",
          "name": "stdout",
          "text": [
            "MSE : 21.206358965880803\n",
            "RMSE : 4.605036261082078\n",
            "R2 : 0.8971344995922097\n",
            "Adjusted R2 :  0.8941954852948443\n"
          ]
        }
      ]
    },
    {
      "cell_type": "code",
      "source": [
        "plt.figure(figsize=(8,5))\n",
        "plt.plot(10**(y_pred_ridge))\n",
        "plt.plot(10**(np.array(y_test)))\n",
        "plt.legend([\"Predicted\",\"Actual\"])\n",
        "plt.show()"
      ],
      "metadata": {
        "id": "zm8q2Kf2ITAB",
        "outputId": "ebc2b4ba-e242-40af-ba63-971d446d27af",
        "colab": {
          "base_uri": "https://localhost:8080/",
          "height": 54
        }
      },
      "execution_count": 575,
      "outputs": [
        {
          "output_type": "display_data",
          "data": {
            "text/plain": [
              "<Figure size 576x360 with 1 Axes>"
            ],
            "image/png": "[encoded data removed]"
          },
          "metadata": {
            "needs_background": "light"
          }
        }
      ]
    },
    {
      "cell_type": "markdown",
      "source": [
        "##### Which hyperparameter optimization technique have you used and why?"
      ],
      "metadata": {
        "id": "PiV4Ypx8fxKe"
      }
    },
    {
      "cell_type": "markdown",
      "source": [
        "Answer Here."
      ],
      "metadata": {
        "id": "negyGRa7fxKf"
      }
    },
    {
      "cell_type": "markdown",
      "source": [
        "##### Have you seen any improvement? Note down the improvement with updates Evaluation metric Score Chart."
      ],
      "metadata": {
        "id": "TfvqoZmBfxKf"
      }
    },
    {
      "cell_type": "markdown",
      "source": [
        "Answer Here."
      ],
      "metadata": {
        "id": "OaLui8CcfxKf"
      }
    },
    {
      "cell_type": "markdown",
      "source": [
        "### ML Model - 2"
      ],
      "metadata": {
        "id": "dJ2tPlVmpsJ0"
      }
    },
    {
      "cell_type": "markdown",
      "source": [
        "#### 1. Explain the ML Model used and it's performance using Evaluation metric Score Chart."
      ],
      "metadata": {
        "id": "JWYfwnehpsJ1"
      }
    },
    {
      "cell_type": "code",
      "source": [
        "# Visualizing evaluation Metric Score chart\n",
        "lasso = Lasso(alpha=0.1)\n",
        "\n",
        "\n",
        "lasso.fit(X_train, y_train)\n",
        "\n"
      ],
      "metadata": {
        "id": "yEl-hgQWpsJ1",
        "outputId": "8d1c70d5-973c-4cd5-8951-b8d573f9fa27",
        "colab": {
          "base_uri": "https://localhost:8080/"
        }
      },
      "execution_count": 576,
      "outputs": [
        {
          "output_type": "execute_result",
          "data": {
            "text/plain": [
              "Lasso(alpha=0.1)"
            ]
          },
          "metadata": {},
          "execution_count": 576
        }
      ]
    },
    {
      "cell_type": "code",
      "source": [
        "lasso.score(X_train, y_train)"
      ],
      "metadata": {
        "id": "vXGp_Khzx_rT",
        "outputId": "6d8179ef-bb17-4ec1-f257-61a860e0cd86",
        "colab": {
          "base_uri": "https://localhost:8080/"
        }
      },
      "execution_count": 577,
      "outputs": [
        {
          "output_type": "execute_result",
          "data": {
            "text/plain": [
              "0.955441935042964"
            ]
          },
          "metadata": {},
          "execution_count": 577
        }
      ]
    },
    {
      "cell_type": "code",
      "source": [
        "y_pred_r = lasso.predict(X_test)"
      ],
      "metadata": {
        "id": "UH9UCxFlyHaK"
      },
      "execution_count": 578,
      "outputs": []
    },
    {
      "cell_type": "code",
      "source": [
        "MSE  = mean_squared_error(10**(y_test), 10**(y_pred_r))\n",
        "print(\"MSE :\" , MSE)\n",
        "\n",
        "RMSE = np.sqrt(MSE)\n",
        "print(\"RMSE :\" ,RMSE)\n",
        "\n",
        "r2 = r2_score(10**(y_test), 10**(y_pred_r))\n",
        "print(\"R2 :\" ,r2)\n",
        "print(\"Adjusted R2 : \",1-(1-r2_score(10**(y_test), 10**(y_pred_r)))*((X_test.shape[0]-1)/(X_test.shape[0]-X_test.shape[1]-1)))"
      ],
      "metadata": {
        "id": "9gI0af8gyOL_",
        "outputId": "79f13687-2ebb-4e6d-e9a8-a08382c8c68f",
        "colab": {
          "base_uri": "https://localhost:8080/"
        }
      },
      "execution_count": 579,
      "outputs": [
        {
          "output_type": "stream",
          "name": "stdout",
          "text": [
            "MSE : 58.2544676625889\n",
            "RMSE : 7.632461441932668\n",
            "R2 : 0.7174255619862487\n",
            "Adjusted R2 :  0.7093520066144273\n"
          ]
        }
      ]
    },
    {
      "cell_type": "markdown",
      "source": [
        "#### 2. Cross- Validation & Hyperparameter Tuning"
      ],
      "metadata": {
        "id": "-jK_YjpMpsJ2"
      }
    },
    {
      "cell_type": "code",
      "source": [
        "# ML Model - 1 Implementation with hyperparameter optimization techniques (i.e., GridSearch CV, RandomSearch CV, Bayesian Optimization etc.)\n",
        "lasso = Lasso()\n",
        "parameters = {'alpha': [1e-15,1e-13,1e-10,1e-8,1e-5,1e-4,1e-3,1e-2,1e-1,1,5,10,20,30,40,45,50,55,60,100]}\n",
        "lasso_regressor = GridSearchCV(lasso, parameters, scoring='neg_mean_squared_error', cv=3)\n",
        "lasso_regressor.fit(X_train, y_train)\n",
        "\n",
        "print(\"The best fit alpha value is found out to be :\" ,lasso_regressor.best_params_)\n",
        "print(\"\\nUsing \",lasso_regressor.best_params_, \" the negative mean squared error is: \", lasso_regressor.best_score_)\n",
        "# Fit the Algorithm\n",
        "\n",
        "# Predict on the model"
      ],
      "metadata": {
        "id": "Dn0EOfS6psJ2",
        "outputId": "86177863-3d1a-44a4-dcb6-249930efb232",
        "colab": {
          "base_uri": "https://localhost:8080/"
        }
      },
      "execution_count": 580,
      "outputs": [
        {
          "output_type": "stream",
          "name": "stdout",
          "text": [
            "The best fit alpha value is found out to be : {'alpha': 0.01}\n",
            "\n",
            "Using  {'alpha': 0.01}  the negative mean squared error is:  -0.03530606045027503\n"
          ]
        }
      ]
    },
    {
      "cell_type": "markdown",
      "source": [
        "##### Which hyperparameter optimization technique have you used and why?"
      ],
      "metadata": {
        "id": "HAih1iBOpsJ2"
      }
    },
    {
      "cell_type": "markdown",
      "source": [
        "Answer Here."
      ],
      "metadata": {
        "id": "9kBgjYcdpsJ2"
      }
    },
    {
      "cell_type": "markdown",
      "source": [
        "##### Have you seen any improvement? Note down the improvement with updates Evaluation metric Score Chart."
      ],
      "metadata": {
        "id": "zVGeBEFhpsJ2"
      }
    },
    {
      "cell_type": "markdown",
      "source": [
        "Answer Here."
      ],
      "metadata": {
        "id": "74yRdG6UpsJ3"
      }
    },
    {
      "cell_type": "markdown",
      "source": [
        "#### 3. Explain each evaluation metric's indication towards business and the business impact pf the ML model used."
      ],
      "metadata": {
        "id": "bmKjuQ-FpsJ3"
      }
    },
    {
      "cell_type": "markdown",
      "source": [
        "Answer Here."
      ],
      "metadata": {
        "id": "BDKtOrBQpsJ3"
      }
    },
    {
      "cell_type": "markdown",
      "source": [
        "### ML Model - 3"
      ],
      "metadata": {
        "id": "Fze-IPXLpx6K"
      }
    },
    {
      "cell_type": "code",
      "source": [
        "# ML Model - 3 Implementation\n",
        "elasticnet = ElasticNet(alpha=0.1, l1_ratio=0.5)\n",
        "\n",
        "\n",
        "# Predict on the model"
      ],
      "metadata": {
        "id": "FFrSXAtrpx6M"
      },
      "execution_count": 581,
      "outputs": []
    },
    {
      "cell_type": "code",
      "source": [
        "elasticnet.fit(X_train,y_train)"
      ],
      "metadata": {
        "id": "5hL3o4Eu9Dw2",
        "outputId": "25b9f08e-b483-42ff-eef7-bef5537f1ea2",
        "colab": {
          "base_uri": "https://localhost:8080/"
        }
      },
      "execution_count": 582,
      "outputs": [
        {
          "output_type": "execute_result",
          "data": {
            "text/plain": [
              "ElasticNet(alpha=0.1)"
            ]
          },
          "metadata": {},
          "execution_count": 582
        }
      ]
    },
    {
      "cell_type": "code",
      "source": [
        "elasticnet.score(X_train, y_train)"
      ],
      "metadata": {
        "id": "l9jl0eBo9JpV",
        "outputId": "4677ae23-8516-4e6e-f018-b06f012320d5",
        "colab": {
          "base_uri": "https://localhost:8080/"
        }
      },
      "execution_count": 583,
      "outputs": [
        {
          "output_type": "execute_result",
          "data": {
            "text/plain": [
              "0.9566198432312963"
            ]
          },
          "metadata": {},
          "execution_count": 583
        }
      ]
    },
    {
      "cell_type": "code",
      "source": [
        "y_pred_en = elasticnet.predict(X_test)"
      ],
      "metadata": {
        "id": "lqVERQlB9S1a"
      },
      "execution_count": 584,
      "outputs": []
    },
    {
      "cell_type": "code",
      "source": [
        "MSE  = mean_squared_error(10**(y_test), 10**(y_pred_en))\n",
        "print(\"MSE :\" , MSE)\n",
        "\n",
        "RMSE = np.sqrt(MSE)\n",
        "print(\"RMSE :\" ,RMSE)\n",
        "\n",
        "r2 = r2_score(10**(y_test), 10**(y_pred_en))\n",
        "print(\"R2 :\" ,r2)\n",
        "print(\"Adjusted R2 : \",1-(1-r2_score(10**(y_test), 10**(y_pred_en)))*((X_test.shape[0]-1)/(X_test.shape[0]-X_test.shape[1]-1)))"
      ],
      "metadata": {
        "id": "xnA15o0FJNx8",
        "outputId": "e189321f-ff39-4e6b-bd94-05f70b2cebab",
        "colab": {
          "base_uri": "https://localhost:8080/"
        }
      },
      "execution_count": 585,
      "outputs": [
        {
          "output_type": "stream",
          "name": "stdout",
          "text": [
            "MSE : 55.38917475154164\n",
            "RMSE : 7.44239039230956\n",
            "R2 : 0.7313242133098438\n",
            "Adjusted R2 :  0.7236477622615536\n"
          ]
        }
      ]
    },
    {
      "cell_type": "markdown",
      "source": [
        "#### 1. Explain the ML Model used and it's performance using Evaluation metric Score Chart."
      ],
      "metadata": {
        "id": "7AN1z2sKpx6M"
      }
    },
    {
      "cell_type": "code",
      "source": [
        "# Visualizing evaluation Metric Score chart\n",
        "plt.figure(figsize=(8,5))\n",
        "plt.plot(10**(y_pred_r1))\n",
        "plt.plot(10**(np.array(y_test)))\n",
        "plt.legend([\"Predicted\",\"Actual\"])\n",
        "plt.show()"
      ],
      "metadata": {
        "id": "xIY4lxxGpx6M",
        "outputId": "5064bb78-6977-436f-afd1-77d47caab9c3",
        "colab": {
          "base_uri": "https://localhost:8080/",
          "height": 54
        }
      },
      "execution_count": 586,
      "outputs": [
        {
          "output_type": "display_data",
          "data": {
            "text/plain": [
              "<Figure size 576x360 with 1 Axes>"
            ],
            "image/png": "[encoded data removed]"
          },
          "metadata": {
            "needs_background": "light"
          }
        }
      ]
    },
    {
      "cell_type": "markdown",
      "source": [
        "#### 2. Cross- Validation & Hyperparameter Tuning"
      ],
      "metadata": {
        "id": "9PIHJqyupx6M"
      }
    },
    {
      "cell_type": "code",
      "source": [
        "# ML Model - 3 Implementation with hyperparameter optimization techniques (i.e., GridSearch CV, RandomSearch CV, Bayesian Optimization etc.)\n",
        "\n",
        "# Fit the Algorithm\n",
        "# Hyperprarameter tuning\n",
        "\n",
        "elastic = ElasticNet()\n",
        "parameters = {'alpha': [1e-15,1e-13,1e-10,1e-8,1e-5,1e-4,1e-3,1e-2,1e-1,1,5,10,20,30,40,45,50,55,60,100],'l1_ratio':[0.3,0.4,0.5,0.6,0.7,0.8]}\n",
        "elastic_regressor = GridSearchCV(elastic, parameters, scoring='neg_mean_squared_error',cv=5)\n",
        "elastic_regressor.fit(X_train, y_train)\n",
        "# Predict on the model"
      ],
      "metadata": {
        "id": "eSVXuaSKpx6M",
        "outputId": "875ab8f5-018b-4588-eadc-3e37d14248cc",
        "colab": {
          "base_uri": "https://localhost:8080/"
        }
      },
      "execution_count": 587,
      "outputs": [
        {
          "output_type": "execute_result",
          "data": {
            "text/plain": [
              "GridSearchCV(cv=5, estimator=ElasticNet(),\n",
              "             param_grid={'alpha': [1e-15, 1e-13, 1e-10, 1e-08, 1e-05, 0.0001,\n",
              "                                   0.001, 0.01, 0.1, 1, 5, 10, 20, 30, 40, 45,\n",
              "                                   50, 55, 60, 100],\n",
              "                         'l1_ratio': [0.3, 0.4, 0.5, 0.6, 0.7, 0.8]},\n",
              "             scoring='neg_mean_squared_error')"
            ]
          },
          "metadata": {},
          "execution_count": 587
        }
      ]
    },
    {
      "cell_type": "code",
      "source": [
        "y_pred_elastic = elastic_regressor.predict(X_test)"
      ],
      "metadata": {
        "id": "_LRVFfZI-VU1"
      },
      "execution_count": 588,
      "outputs": []
    },
    {
      "cell_type": "code",
      "source": [
        "print(\"The best fit alpha value is found out to be :\" ,elastic_regressor.best_params_)\n",
        "print(\"\\nUsing \",elastic_regressor.best_params_, \" the negative mean squared error is: \", elastic_regressor.best_score_)"
      ],
      "metadata": {
        "id": "ZgxPOXMU-aJc",
        "outputId": "4efc2d8f-6c92-4930-8d58-c5cdb8045bff",
        "colab": {
          "base_uri": "https://localhost:8080/"
        }
      },
      "execution_count": 589,
      "outputs": [
        {
          "output_type": "stream",
          "name": "stdout",
          "text": [
            "The best fit alpha value is found out to be : {'alpha': 0.001, 'l1_ratio': 0.3}\n",
            "\n",
            "Using  {'alpha': 0.001, 'l1_ratio': 0.3}  the negative mean squared error is:  -0.03491024995396058\n"
          ]
        }
      ]
    },
    {
      "cell_type": "code",
      "source": [
        "MSE  = mean_squared_error(10**(y_test), 10**(y_pred_elastic))\n",
        "print(\"MSE :\" , MSE)\n",
        "\n",
        "RMSE = np.sqrt(MSE)\n",
        "print(\"RMSE :\" ,RMSE)\n",
        "\n",
        "r2 = r2_score(10**(y_test), 10**(y_pred_elastic))\n",
        "print(\"R2 :\" ,r2)\n",
        "print(\"Adjusted R2 : \",1-(1-r2_score(10**(y_test), 10**(y_pred_elastic)))*((X_test.shape[0]-1)/(X_test.shape[0]-X_test.shape[1]-1)))"
      ],
      "metadata": {
        "id": "GeamPPrO-dyO",
        "outputId": "530e133e-4eb1-46cf-b066-c4499e26d496",
        "colab": {
          "base_uri": "https://localhost:8080/"
        }
      },
      "execution_count": 590,
      "outputs": [
        {
          "output_type": "stream",
          "name": "stdout",
          "text": [
            "MSE : 21.256871298876348\n",
            "RMSE : 4.610517465412787\n",
            "R2 : 0.8968894798592744\n",
            "Adjusted R2 :  0.8939434649981108\n"
          ]
        }
      ]
    },
    {
      "cell_type": "code",
      "source": [
        "plt.figure(figsize=(8,5))\n",
        "plt.plot(10**(y_pred_elastic))\n",
        "plt.plot(10**(np.array(y_test)))\n",
        "plt.legend([\"Predicted\",\"Actual\"])\n",
        "plt.show()"
      ],
      "metadata": {
        "id": "eY8gCKjb-iNh",
        "outputId": "6564e153-980a-48a9-bf30-355f378e52cf",
        "colab": {
          "base_uri": "https://localhost:8080/",
          "height": 54
        }
      },
      "execution_count": 591,
      "outputs": [
        {
          "output_type": "display_data",
          "data": {
            "text/plain": [
              "<Figure size 576x360 with 1 Axes>"
            ],
            "image/png": "[encoded data removed]"
          },
          "metadata": {
            "needs_background": "light"
          }
        }
      ]
    },
    {
      "cell_type": "code",
      "source": [],
      "metadata": {
        "id": "EMWKbR6NJe4E"
      },
      "execution_count": 591,
      "outputs": []
    },
    {
      "cell_type": "markdown",
      "source": [
        "##### Which hyperparameter optimization technique have you used and why?"
      ],
      "metadata": {
        "id": "_-qAgymDpx6N"
      }
    },
    {
      "cell_type": "markdown",
      "source": [
        "Answer Here."
      ],
      "metadata": {
        "id": "lQMffxkwpx6N"
      }
    },
    {
      "cell_type": "markdown",
      "source": [
        "##### Have you seen any improvement? Note down the improvement with updates Evaluation metric Score Chart."
      ],
      "metadata": {
        "id": "Z-hykwinpx6N"
      }
    },
    {
      "cell_type": "markdown",
      "source": [
        "Answer Here."
      ],
      "metadata": {
        "id": "MzVzZC6opx6N"
      }
    },
    {
      "cell_type": "code",
      "source": [],
      "metadata": {
        "id": "155NhgfU_gp8"
      },
      "execution_count": 591,
      "outputs": []
    },
    {
      "cell_type": "code",
      "source": [],
      "metadata": {
        "id": "nI6r5g3VAxhC"
      },
      "execution_count": 591,
      "outputs": []
    },
    {
      "cell_type": "markdown",
      "source": [
        "### 1. Which Evaluation metrics did you consider for a positive business impact and why?"
      ],
      "metadata": {
        "id": "h_CCil-SKHpo"
      }
    },
    {
      "cell_type": "markdown",
      "source": [
        "Answer Here."
      ],
      "metadata": {
        "id": "jHVz9hHDKFms"
      }
    },
    {
      "cell_type": "code",
      "source": [],
      "metadata": {
        "id": "-QKraTK7AzoO"
      },
      "execution_count": 591,
      "outputs": []
    },
    {
      "cell_type": "code",
      "source": [],
      "metadata": {
        "id": "gMVTzpP2BsNr"
      },
      "execution_count": 591,
      "outputs": []
    },
    {
      "cell_type": "markdown",
      "source": [
        "### 2. Which ML model did you choose from the above created models as your final prediction model and why?"
      ],
      "metadata": {
        "id": "cBFFvTBNJzUa"
      }
    },
    {
      "cell_type": "markdown",
      "source": [
        "Answer Here."
      ],
      "metadata": {
        "id": "6ksF5Q1LKTVm"
      }
    },
    {
      "cell_type": "markdown",
      "source": [
        "### 3. Explain the model which you have used and the feature importance using any model explainability tool?"
      ],
      "metadata": {
        "id": "HvGl1hHyA_VK"
      }
    },
    {
      "cell_type": "markdown",
      "source": [
        "Answer Here."
      ],
      "metadata": {
        "id": "YnvVTiIxBL-C"
      }
    },
    {
      "cell_type": "markdown",
      "source": [
        "## ***8.*** ***Future Work (Optional)***"
      ],
      "metadata": {
        "id": "EyNgTHvd2WFk"
      }
    },
    {
      "cell_type": "markdown",
      "source": [
        "### 1. Save the best performing ml model in a pickle file or joblib file format for deployment process.\n"
      ],
      "metadata": {
        "id": "KH5McJBi2d8v"
      }
    },
    {
      "cell_type": "code",
      "source": [
        "# Save the File"
      ],
      "metadata": {
        "id": "bQIANRl32f4J"
      },
      "execution_count": 592,
      "outputs": []
    },
    {
      "cell_type": "markdown",
      "source": [
        "### 2. Again Load the saved model file and try to predict unseen data for a sanity check.\n"
      ],
      "metadata": {
        "id": "iW_Lq9qf2h6X"
      }
    },
    {
      "cell_type": "code",
      "source": [
        "# Load the File and predict unseen data."
      ],
      "metadata": {
        "id": "oEXk9ydD2nVC"
      },
      "execution_count": 593,
      "outputs": []
    },
    {
      "cell_type": "markdown",
      "source": [
        "### ***Congrats! Your model is successfully created and ready for deployment on a live server for a real user interaction !!!***"
      ],
      "metadata": {
        "id": "-Kee-DAl2viO"
      }
    },
    {
      "cell_type": "markdown",
      "source": [
        "# **Conclusion**"
      ],
      "metadata": {
        "id": "gCX9965dhzqZ"
      }
    },
    {
      "cell_type": "markdown",
      "source": [
        "Write the conclusion here."
      ],
      "metadata": {
        "id": "Fjb1IsQkh3yE"
      }
    },
    {
      "cell_type": "markdown",
      "source": [
        "### ***Hurrah! You have successfully completed your Machine Learning Capstone Project !!!***"
      ],
      "metadata": {
        "id": "gIfDvo9L0UH2"
      }
    }
  ]
}